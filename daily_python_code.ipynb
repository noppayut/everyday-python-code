{
 "cells": [
  {
   "cell_type": "markdown",
   "metadata": {},
   "source": [
    "# My everyday Python code\n",
    "- Basics\n",
    "    - Python\n",
    "- Data manipulation\n",
    "    - Pandas\n",
    "- Visualization\n",
    "    - Matplotlib & Seaborn\n",
    "    - Scikit-learn\n",
    "- Utilities\n",
    "    - Numpy\n",
    "- Tools\n",
    "    - Jupyter notebook / lab"
   ]
  },
  {
   "cell_type": "markdown",
   "metadata": {},
   "source": [
    "# Python\n",
    "- PrettyPrinter & Filter / Map\n",
    "- Multiprocessing\n",
    "- Counter\n",
    "- Current datetime\n",
    "- Pickle"
   ]
  },
  {
   "cell_type": "code",
   "execution_count": 1,
   "metadata": {},
   "outputs": [],
   "source": [
    "import os\n",
    "import nltk"
   ]
  },
  {
   "cell_type": "markdown",
   "metadata": {},
   "source": [
    "## PrettyPrinter & Filter / Map"
   ]
  },
  {
   "cell_type": "code",
   "execution_count": 2,
   "metadata": {},
   "outputs": [],
   "source": [
    "from pprint import PrettyPrinter\n",
    "\n",
    "pp = PrettyPrinter(indent=4)"
   ]
  },
  {
   "cell_type": "code",
   "execution_count": 3,
   "metadata": {},
   "outputs": [
    {
     "name": "stdout",
     "output_type": "stream",
     "text": [
      "200 [(0, 0, 0), (1, 2, 3), (2, 4, 6), (3, 6, 9), (4, 8, 12), (5, 10, 15), (6, 12, 18), (7, 14, 21), (8, 16, 24), (9, 18, 27)]\n",
      "----- Filter -----\n",
      "100 [(0, 0, 0), (2, 4, 6), (4, 8, 12), (6, 12, 18), (8, 16, 24), (10, 20, 30), (12, 24, 36), (14, 28, 42), (16, 32, 48), (18, 36, 54)]\n",
      "----- With print -----\n",
      "[(0, 0, 0), (2, 16, 1296), (4, 64, 20736), (6, 144, 104976), (8, 256, 331776), (10, 400, 810000), (12, 576, 1679616), (14, 784, 3111696), (16, 1024, 5308416), (18, 1296, 8503056)]\n",
      "----- With pprint -----\n",
      "[   (0, 0, 0),\n",
      "    (2, 16, 1296),\n",
      "    (4, 64, 20736),\n",
      "    (6, 144, 104976),\n",
      "    (8, 256, 331776),\n",
      "    (10, 400, 810000),\n",
      "    (12, 576, 1679616),\n",
      "    (14, 784, 3111696),\n",
      "    (16, 1024, 5308416),\n",
      "    (18, 1296, 8503056)]\n"
     ]
    }
   ],
   "source": [
    "test_print = [(i, 2*i, 3*i) for i in range(200)]\n",
    "print(len(test_print), test_print[:10])\n",
    "print(\"----- Filter -----\")\n",
    "test_print_even = list(filter(lambda x: x[0] % 2 == 0, test_print))\n",
    "print(len(test_print_even), test_print_even[:10])\n",
    "\n",
    "test_print_even_power = list(map(lambda x: (x[0], x[1] ** 2, x[2] ** 4), test_print_even))\n",
    "\n",
    "print(\"----- With print -----\")\n",
    "print(test_print_even_power[:10])\n",
    "print(\"----- With pprint -----\")\n",
    "pp.pprint(test_print_even_power[:10])"
   ]
  },
  {
   "cell_type": "markdown",
   "metadata": {},
   "source": [
    "## Glob"
   ]
  },
  {
   "cell_type": "code",
   "execution_count": 4,
   "metadata": {},
   "outputs": [
    {
     "name": "stdout",
     "output_type": "stream",
     "text": [
      "[   '20news-19997/20_newsgroups/rec.motorcycles/104606',\n",
      "    '20news-19997/20_newsgroups/rec.motorcycles/104381',\n",
      "    '20news-19997/20_newsgroups/rec.motorcycles/104798',\n",
      "    '20news-19997/20_newsgroups/rec.motorcycles/105236',\n",
      "    '20news-19997/20_newsgroups/rec.motorcycles/104307',\n",
      "    '20news-19997/20_newsgroups/rec.motorcycles/105125',\n",
      "    '20news-19997/20_newsgroups/rec.motorcycles/104731',\n",
      "    '20news-19997/20_newsgroups/rec.motorcycles/104696',\n",
      "    '20news-19997/20_newsgroups/rec.motorcycles/104516',\n",
      "    '20news-19997/20_newsgroups/rec.motorcycles/104494']\n"
     ]
    }
   ],
   "source": [
    "import glob\n",
    "\n",
    "data_path_pattern = '20news-19997/20_newsgroups/*/*'\n",
    "data_paths = glob.glob(data_path_pattern)\n",
    "pp.pprint(data_paths[:10])"
   ]
  },
  {
   "cell_type": "markdown",
   "metadata": {},
   "source": [
    "## Multiprocessing\n"
   ]
  },
  {
   "cell_type": "code",
   "execution_count": 5,
   "metadata": {},
   "outputs": [],
   "source": [
    "from multiprocessing import Pool\n",
    "\n",
    "def read_and_tokenize(filepath):\n",
    "    try:\n",
    "        with open(filepath, 'r', encoding='utf-8') as f:\n",
    "            text = f.read()\n",
    "    except UnicodeDecodeError:\n",
    "        text = ''\n",
    "    except FileNotFoundError:\n",
    "        text = ''\n",
    "    return nltk.pos_tag(nltk.word_tokenize(text))"
   ]
  },
  {
   "cell_type": "code",
   "execution_count": 6,
   "metadata": {},
   "outputs": [
    {
     "name": "stdout",
     "output_type": "stream",
     "text": [
      "CPU times: user 2.97 s, sys: 779 ms, total: 3.75 s\n",
      "Wall time: 2min 5s\n"
     ]
    }
   ],
   "source": [
    "%%time\n",
    "n_cpus = os.cpu_count()\n",
    "with Pool(n_cpus) as p:\n",
    "    tagged_files = p.map(read_and_tokenize, data_paths)\n",
    "    p.close()\n",
    "    p.join()"
   ]
  },
  {
   "cell_type": "code",
   "execution_count": 7,
   "metadata": {},
   "outputs": [
    {
     "name": "stdout",
     "output_type": "stream",
     "text": [
      "CPU times: user 5min 34s, sys: 1.1 s, total: 5min 35s\n",
      "Wall time: 5min 35s\n"
     ]
    }
   ],
   "source": [
    "%%time\n",
    "tagged_files = [read_and_tokenize(fpath) for fpath in data_paths]"
   ]
  },
  {
   "cell_type": "code",
   "execution_count": 8,
   "metadata": {},
   "outputs": [
    {
     "name": "stdout",
     "output_type": "stream",
     "text": [
      "[   ('Newsgroups', 'NNS'),\n",
      "    (':', ':'),\n",
      "    ('rec.motorcycles', 'NNS'),\n",
      "    ('Path', 'NNP'),\n",
      "    (':', ':'),\n",
      "    ('cantaloupe.srv.cs.cmu.edu', 'NN'),\n",
      "    ('!', '.'),\n",
      "    ('das-news.harvard.edu', 'NN'),\n",
      "    ('!', '.'),\n",
      "    ('noc.near.net', 'NN')]\n"
     ]
    }
   ],
   "source": [
    "pp.pprint(tagged_files[0][:10])"
   ]
  },
  {
   "cell_type": "markdown",
   "metadata": {},
   "source": [
    "## Counter"
   ]
  },
  {
   "cell_type": "code",
   "execution_count": 9,
   "metadata": {},
   "outputs": [
    {
     "name": "stdout",
     "output_type": "stream",
     "text": [
      "[   ('>', 327196),\n",
      "    (':', 307266),\n",
      "    (',', 303667),\n",
      "    ('.', 251231),\n",
      "    ('!', 230193),\n",
      "    ('the', 225483),\n",
      "    ('--', 185469),\n",
      "    ('@', 150729),\n",
      "    ('to', 124878),\n",
      "    (')', 123829)]\n"
     ]
    }
   ],
   "source": [
    "from collections import Counter\n",
    "\n",
    "cc = Counter()\n",
    "for tagged_file in tagged_files:\n",
    "    words = [word for word, _ in tagged_file]\n",
    "    cc.update(words)\n",
    "pp.pprint(cc.most_common(10))"
   ]
  },
  {
   "cell_type": "markdown",
   "metadata": {},
   "source": [
    "## Current datetime"
   ]
  },
  {
   "cell_type": "code",
   "execution_count": 10,
   "metadata": {},
   "outputs": [
    {
     "name": "stdout",
     "output_type": "stream",
     "text": [
      "2019-12-28 19:02:15\n"
     ]
    }
   ],
   "source": [
    "import datetime\n",
    "cTime = datetime.datetime.now().strftime('%Y-%m-%d %H:%M:%S')\n",
    "print(cTime)"
   ]
  },
  {
   "cell_type": "markdown",
   "metadata": {},
   "source": [
    "## Pickle"
   ]
  },
  {
   "cell_type": "code",
   "execution_count": 11,
   "metadata": {},
   "outputs": [
    {
     "name": "stdout",
     "output_type": "stream",
     "text": [
      "19997\n",
      "[   ('Newsgroups', 'NNS'),\n",
      "    (':', ':'),\n",
      "    ('rec.motorcycles', 'NNS'),\n",
      "    ('Path', 'NNP'),\n",
      "    (':', ':'),\n",
      "    ('cantaloupe.srv.cs.cmu.edu', 'NN'),\n",
      "    ('!', '.'),\n",
      "    ('das-news.harvard.edu', 'NN'),\n",
      "    ('!', '.'),\n",
      "    ('noc.near.net', 'NN')]\n"
     ]
    }
   ],
   "source": [
    "import pickle\n",
    "\n",
    "pickle_save_path = 'tagged_files_%s.pkl' % cTime\n",
    "\n",
    "with open(pickle_save_path, 'wb') as f:\n",
    "    pickle.dump(tagged_files, f)\n",
    "\n",
    "with open(pickle_save_path, 'rb') as f:\n",
    "    loaded_tagged_files = pickle.load(f)\n",
    "\n",
    "print(len(loaded_tagged_files))\n",
    "pp.pprint(loaded_tagged_files[0][:10])"
   ]
  },
  {
   "cell_type": "markdown",
   "metadata": {},
   "source": [
    "# Pandas\n",
    "- iterrows & load data\n",
    "- head / tail / sample\n",
    "- iterrows()\n",
    "- groupby -> agg\n",
    "- concat (axis=0, axis=1)\n",
    "- apply + more than one arg"
   ]
  },
  {
   "cell_type": "markdown",
   "metadata": {},
   "source": [
    "## Iterrows & load data"
   ]
  },
  {
   "cell_type": "code",
   "execution_count": 1,
   "metadata": {},
   "outputs": [
    {
     "name": "stdout",
     "output_type": "stream",
     "text": [
      "[('sepal', 'width'), ('sepal', 'height'), ('petal', 'width'), ('petal', 'height')]\n"
     ]
    }
   ],
   "source": [
    "import pandas as pd\n",
    "\n",
    "from itertools import product\n",
    "\n",
    "filepath = 'iris/iris.data'\n",
    "\n",
    "parts = ['sepal', 'petal']\n",
    "axes = ['width', 'height']\n",
    "\n",
    "# [('sepal', 'width'), ('sepal', 'height'), ('petal', 'width'), ('petal', 'height')]\n",
    "parts_axes = list(product(parts, axes))\n",
    "print(parts_axes)\n",
    "columns = list(map(lambda x: '%s_%s' % (x[0], x[1]), parts_axes)) + ['class']\n",
    "\n",
    "df = pd.read_csv(filepath, names=columns)"
   ]
  },
  {
   "cell_type": "markdown",
   "metadata": {},
   "source": [
    "## Head, Tail, Sample"
   ]
  },
  {
   "cell_type": "code",
   "execution_count": 13,
   "metadata": {},
   "outputs": [
    {
     "data": {
      "text/html": [
       "<div>\n",
       "<style scoped>\n",
       "    .dataframe tbody tr th:only-of-type {\n",
       "        vertical-align: middle;\n",
       "    }\n",
       "\n",
       "    .dataframe tbody tr th {\n",
       "        vertical-align: top;\n",
       "    }\n",
       "\n",
       "    .dataframe thead th {\n",
       "        text-align: right;\n",
       "    }\n",
       "</style>\n",
       "<table border=\"1\" class=\"dataframe\">\n",
       "  <thead>\n",
       "    <tr style=\"text-align: right;\">\n",
       "      <th></th>\n",
       "      <th>sepal_width</th>\n",
       "      <th>sepal_height</th>\n",
       "      <th>petal_width</th>\n",
       "      <th>petal_height</th>\n",
       "      <th>class</th>\n",
       "    </tr>\n",
       "  </thead>\n",
       "  <tbody>\n",
       "    <tr>\n",
       "      <th>0</th>\n",
       "      <td>5.1</td>\n",
       "      <td>3.5</td>\n",
       "      <td>1.4</td>\n",
       "      <td>0.2</td>\n",
       "      <td>Iris-setosa</td>\n",
       "    </tr>\n",
       "    <tr>\n",
       "      <th>1</th>\n",
       "      <td>4.9</td>\n",
       "      <td>3.0</td>\n",
       "      <td>1.4</td>\n",
       "      <td>0.2</td>\n",
       "      <td>Iris-setosa</td>\n",
       "    </tr>\n",
       "    <tr>\n",
       "      <th>2</th>\n",
       "      <td>4.7</td>\n",
       "      <td>3.2</td>\n",
       "      <td>1.3</td>\n",
       "      <td>0.2</td>\n",
       "      <td>Iris-setosa</td>\n",
       "    </tr>\n",
       "    <tr>\n",
       "      <th>3</th>\n",
       "      <td>4.6</td>\n",
       "      <td>3.1</td>\n",
       "      <td>1.5</td>\n",
       "      <td>0.2</td>\n",
       "      <td>Iris-setosa</td>\n",
       "    </tr>\n",
       "    <tr>\n",
       "      <th>4</th>\n",
       "      <td>5.0</td>\n",
       "      <td>3.6</td>\n",
       "      <td>1.4</td>\n",
       "      <td>0.2</td>\n",
       "      <td>Iris-setosa</td>\n",
       "    </tr>\n",
       "  </tbody>\n",
       "</table>\n",
       "</div>"
      ],
      "text/plain": [
       "   sepal_width  sepal_height  petal_width  petal_height        class\n",
       "0          5.1           3.5          1.4           0.2  Iris-setosa\n",
       "1          4.9           3.0          1.4           0.2  Iris-setosa\n",
       "2          4.7           3.2          1.3           0.2  Iris-setosa\n",
       "3          4.6           3.1          1.5           0.2  Iris-setosa\n",
       "4          5.0           3.6          1.4           0.2  Iris-setosa"
      ]
     },
     "execution_count": 13,
     "metadata": {},
     "output_type": "execute_result"
    }
   ],
   "source": [
    "df.head()"
   ]
  },
  {
   "cell_type": "code",
   "execution_count": 14,
   "metadata": {},
   "outputs": [
    {
     "data": {
      "text/html": [
       "<div>\n",
       "<style scoped>\n",
       "    .dataframe tbody tr th:only-of-type {\n",
       "        vertical-align: middle;\n",
       "    }\n",
       "\n",
       "    .dataframe tbody tr th {\n",
       "        vertical-align: top;\n",
       "    }\n",
       "\n",
       "    .dataframe thead th {\n",
       "        text-align: right;\n",
       "    }\n",
       "</style>\n",
       "<table border=\"1\" class=\"dataframe\">\n",
       "  <thead>\n",
       "    <tr style=\"text-align: right;\">\n",
       "      <th></th>\n",
       "      <th>sepal_width</th>\n",
       "      <th>sepal_height</th>\n",
       "      <th>petal_width</th>\n",
       "      <th>petal_height</th>\n",
       "      <th>class</th>\n",
       "    </tr>\n",
       "  </thead>\n",
       "  <tbody>\n",
       "    <tr>\n",
       "      <th>145</th>\n",
       "      <td>6.7</td>\n",
       "      <td>3.0</td>\n",
       "      <td>5.2</td>\n",
       "      <td>2.3</td>\n",
       "      <td>Iris-virginica</td>\n",
       "    </tr>\n",
       "    <tr>\n",
       "      <th>146</th>\n",
       "      <td>6.3</td>\n",
       "      <td>2.5</td>\n",
       "      <td>5.0</td>\n",
       "      <td>1.9</td>\n",
       "      <td>Iris-virginica</td>\n",
       "    </tr>\n",
       "    <tr>\n",
       "      <th>147</th>\n",
       "      <td>6.5</td>\n",
       "      <td>3.0</td>\n",
       "      <td>5.2</td>\n",
       "      <td>2.0</td>\n",
       "      <td>Iris-virginica</td>\n",
       "    </tr>\n",
       "    <tr>\n",
       "      <th>148</th>\n",
       "      <td>6.2</td>\n",
       "      <td>3.4</td>\n",
       "      <td>5.4</td>\n",
       "      <td>2.3</td>\n",
       "      <td>Iris-virginica</td>\n",
       "    </tr>\n",
       "    <tr>\n",
       "      <th>149</th>\n",
       "      <td>5.9</td>\n",
       "      <td>3.0</td>\n",
       "      <td>5.1</td>\n",
       "      <td>1.8</td>\n",
       "      <td>Iris-virginica</td>\n",
       "    </tr>\n",
       "  </tbody>\n",
       "</table>\n",
       "</div>"
      ],
      "text/plain": [
       "     sepal_width  sepal_height  petal_width  petal_height           class\n",
       "145          6.7           3.0          5.2           2.3  Iris-virginica\n",
       "146          6.3           2.5          5.0           1.9  Iris-virginica\n",
       "147          6.5           3.0          5.2           2.0  Iris-virginica\n",
       "148          6.2           3.4          5.4           2.3  Iris-virginica\n",
       "149          5.9           3.0          5.1           1.8  Iris-virginica"
      ]
     },
     "execution_count": 14,
     "metadata": {},
     "output_type": "execute_result"
    }
   ],
   "source": [
    "df.tail()"
   ]
  },
  {
   "cell_type": "code",
   "execution_count": 15,
   "metadata": {},
   "outputs": [
    {
     "data": {
      "text/html": [
       "<div>\n",
       "<style scoped>\n",
       "    .dataframe tbody tr th:only-of-type {\n",
       "        vertical-align: middle;\n",
       "    }\n",
       "\n",
       "    .dataframe tbody tr th {\n",
       "        vertical-align: top;\n",
       "    }\n",
       "\n",
       "    .dataframe thead th {\n",
       "        text-align: right;\n",
       "    }\n",
       "</style>\n",
       "<table border=\"1\" class=\"dataframe\">\n",
       "  <thead>\n",
       "    <tr style=\"text-align: right;\">\n",
       "      <th></th>\n",
       "      <th>sepal_width</th>\n",
       "      <th>sepal_height</th>\n",
       "      <th>petal_width</th>\n",
       "      <th>petal_height</th>\n",
       "      <th>class</th>\n",
       "    </tr>\n",
       "  </thead>\n",
       "  <tbody>\n",
       "    <tr>\n",
       "      <th>6</th>\n",
       "      <td>4.6</td>\n",
       "      <td>3.4</td>\n",
       "      <td>1.4</td>\n",
       "      <td>0.3</td>\n",
       "      <td>Iris-setosa</td>\n",
       "    </tr>\n",
       "    <tr>\n",
       "      <th>3</th>\n",
       "      <td>4.6</td>\n",
       "      <td>3.1</td>\n",
       "      <td>1.5</td>\n",
       "      <td>0.2</td>\n",
       "      <td>Iris-setosa</td>\n",
       "    </tr>\n",
       "    <tr>\n",
       "      <th>113</th>\n",
       "      <td>5.7</td>\n",
       "      <td>2.5</td>\n",
       "      <td>5.0</td>\n",
       "      <td>2.0</td>\n",
       "      <td>Iris-virginica</td>\n",
       "    </tr>\n",
       "    <tr>\n",
       "      <th>12</th>\n",
       "      <td>4.8</td>\n",
       "      <td>3.0</td>\n",
       "      <td>1.4</td>\n",
       "      <td>0.1</td>\n",
       "      <td>Iris-setosa</td>\n",
       "    </tr>\n",
       "    <tr>\n",
       "      <th>24</th>\n",
       "      <td>4.8</td>\n",
       "      <td>3.4</td>\n",
       "      <td>1.9</td>\n",
       "      <td>0.2</td>\n",
       "      <td>Iris-setosa</td>\n",
       "    </tr>\n",
       "  </tbody>\n",
       "</table>\n",
       "</div>"
      ],
      "text/plain": [
       "     sepal_width  sepal_height  petal_width  petal_height           class\n",
       "6            4.6           3.4          1.4           0.3     Iris-setosa\n",
       "3            4.6           3.1          1.5           0.2     Iris-setosa\n",
       "113          5.7           2.5          5.0           2.0  Iris-virginica\n",
       "12           4.8           3.0          1.4           0.1     Iris-setosa\n",
       "24           4.8           3.4          1.9           0.2     Iris-setosa"
      ]
     },
     "execution_count": 15,
     "metadata": {},
     "output_type": "execute_result"
    }
   ],
   "source": [
    "df.sample(5, random_state=2)"
   ]
  },
  {
   "cell_type": "markdown",
   "metadata": {},
   "source": [
    "## Iterrows"
   ]
  },
  {
   "cell_type": "code",
   "execution_count": 55,
   "metadata": {},
   "outputs": [
    {
     "name": "stdout",
     "output_type": "stream",
     "text": [
      "118 7.7 Iris-virginica\n",
      "15 5.7 Iris-setosa\n",
      "69 5.6 Iris-versicolor\n",
      "63 6.1 Iris-versicolor\n",
      "34 4.9 Iris-setosa\n",
      "119 6.0 Iris-virginica\n",
      "134 6.1 Iris-virginica\n",
      "25 5.0 Iris-setosa\n",
      "114 5.8 Iris-virginica\n",
      "97 6.2 Iris-versicolor\n"
     ]
    }
   ],
   "source": [
    "idx_and_rows = list(df.sample(10).iterrows())\n",
    "for idx, row in idx_and_rows:\n",
    "    print(idx, row['sepal_width'], row['class'])"
   ]
  },
  {
   "cell_type": "markdown",
   "metadata": {},
   "source": [
    "## Groupby + agg"
   ]
  },
  {
   "cell_type": "code",
   "execution_count": 17,
   "metadata": {},
   "outputs": [
    {
     "data": {
      "text/html": [
       "<div>\n",
       "<style scoped>\n",
       "    .dataframe tbody tr th:only-of-type {\n",
       "        vertical-align: middle;\n",
       "    }\n",
       "\n",
       "    .dataframe tbody tr th {\n",
       "        vertical-align: top;\n",
       "    }\n",
       "\n",
       "    .dataframe thead th {\n",
       "        text-align: right;\n",
       "    }\n",
       "</style>\n",
       "<table border=\"1\" class=\"dataframe\">\n",
       "  <thead>\n",
       "    <tr style=\"text-align: right;\">\n",
       "      <th></th>\n",
       "      <th>sepal_width</th>\n",
       "      <th>sepal_height</th>\n",
       "      <th>petal_width</th>\n",
       "      <th>petal_height</th>\n",
       "    </tr>\n",
       "    <tr>\n",
       "      <th>class</th>\n",
       "      <th></th>\n",
       "      <th></th>\n",
       "      <th></th>\n",
       "      <th></th>\n",
       "    </tr>\n",
       "  </thead>\n",
       "  <tbody>\n",
       "    <tr>\n",
       "      <th>Iris-setosa</th>\n",
       "      <td>[5.1, 4.9, 4.7, 4.6, 5.0, 5.4, 4.6, 5.0, 4.4, ...</td>\n",
       "      <td>[3.5, 3.0, 3.2, 3.1, 3.6, 3.9, 3.4, 3.4, 2.9, ...</td>\n",
       "      <td>[1.4, 1.4, 1.3, 1.5, 1.4, 1.7, 1.4, 1.5, 1.4, ...</td>\n",
       "      <td>[0.2, 0.2, 0.2, 0.2, 0.2, 0.4, 0.3, 0.2, 0.2, ...</td>\n",
       "    </tr>\n",
       "    <tr>\n",
       "      <th>Iris-versicolor</th>\n",
       "      <td>[7.0, 6.4, 6.9, 5.5, 6.5, 5.7, 6.3, 4.9, 6.6, ...</td>\n",
       "      <td>[3.2, 3.2, 3.1, 2.3, 2.8, 2.8, 3.3, 2.4, 2.9, ...</td>\n",
       "      <td>[4.7, 4.5, 4.9, 4.0, 4.6, 4.5, 4.7, 3.3, 4.6, ...</td>\n",
       "      <td>[1.4, 1.5, 1.5, 1.3, 1.5, 1.3, 1.6, 1.0, 1.3, ...</td>\n",
       "    </tr>\n",
       "    <tr>\n",
       "      <th>Iris-virginica</th>\n",
       "      <td>[6.3, 5.8, 7.1, 6.3, 6.5, 7.6, 4.9, 7.3, 6.7, ...</td>\n",
       "      <td>[3.3, 2.7, 3.0, 2.9, 3.0, 3.0, 2.5, 2.9, 2.5, ...</td>\n",
       "      <td>[6.0, 5.1, 5.9, 5.6, 5.8, 6.6, 4.5, 6.3, 5.8, ...</td>\n",
       "      <td>[2.5, 1.9, 2.1, 1.8, 2.2, 2.1, 1.7, 1.8, 1.8, ...</td>\n",
       "    </tr>\n",
       "  </tbody>\n",
       "</table>\n",
       "</div>"
      ],
      "text/plain": [
       "                                                       sepal_width  \\\n",
       "class                                                                \n",
       "Iris-setosa      [5.1, 4.9, 4.7, 4.6, 5.0, 5.4, 4.6, 5.0, 4.4, ...   \n",
       "Iris-versicolor  [7.0, 6.4, 6.9, 5.5, 6.5, 5.7, 6.3, 4.9, 6.6, ...   \n",
       "Iris-virginica   [6.3, 5.8, 7.1, 6.3, 6.5, 7.6, 4.9, 7.3, 6.7, ...   \n",
       "\n",
       "                                                      sepal_height  \\\n",
       "class                                                                \n",
       "Iris-setosa      [3.5, 3.0, 3.2, 3.1, 3.6, 3.9, 3.4, 3.4, 2.9, ...   \n",
       "Iris-versicolor  [3.2, 3.2, 3.1, 2.3, 2.8, 2.8, 3.3, 2.4, 2.9, ...   \n",
       "Iris-virginica   [3.3, 2.7, 3.0, 2.9, 3.0, 3.0, 2.5, 2.9, 2.5, ...   \n",
       "\n",
       "                                                       petal_width  \\\n",
       "class                                                                \n",
       "Iris-setosa      [1.4, 1.4, 1.3, 1.5, 1.4, 1.7, 1.4, 1.5, 1.4, ...   \n",
       "Iris-versicolor  [4.7, 4.5, 4.9, 4.0, 4.6, 4.5, 4.7, 3.3, 4.6, ...   \n",
       "Iris-virginica   [6.0, 5.1, 5.9, 5.6, 5.8, 6.6, 4.5, 6.3, 5.8, ...   \n",
       "\n",
       "                                                      petal_height  \n",
       "class                                                               \n",
       "Iris-setosa      [0.2, 0.2, 0.2, 0.2, 0.2, 0.4, 0.3, 0.2, 0.2, ...  \n",
       "Iris-versicolor  [1.4, 1.5, 1.5, 1.3, 1.5, 1.3, 1.6, 1.0, 1.3, ...  \n",
       "Iris-virginica   [2.5, 1.9, 2.1, 1.8, 2.2, 2.1, 1.7, 1.8, 1.8, ...  "
      ]
     },
     "execution_count": 17,
     "metadata": {},
     "output_type": "execute_result"
    }
   ],
   "source": [
    "df.groupby('class').agg(list)"
   ]
  },
  {
   "cell_type": "code",
   "execution_count": 18,
   "metadata": {},
   "outputs": [
    {
     "data": {
      "text/html": [
       "<div>\n",
       "<style scoped>\n",
       "    .dataframe tbody tr th:only-of-type {\n",
       "        vertical-align: middle;\n",
       "    }\n",
       "\n",
       "    .dataframe tbody tr th {\n",
       "        vertical-align: top;\n",
       "    }\n",
       "\n",
       "    .dataframe thead tr th {\n",
       "        text-align: left;\n",
       "    }\n",
       "\n",
       "    .dataframe thead tr:last-of-type th {\n",
       "        text-align: right;\n",
       "    }\n",
       "</style>\n",
       "<table border=\"1\" class=\"dataframe\">\n",
       "  <thead>\n",
       "    <tr>\n",
       "      <th></th>\n",
       "      <th colspan=\"4\" halign=\"left\">sepal_width</th>\n",
       "      <th colspan=\"4\" halign=\"left\">sepal_height</th>\n",
       "      <th colspan=\"4\" halign=\"left\">petal_width</th>\n",
       "      <th colspan=\"4\" halign=\"left\">petal_height</th>\n",
       "    </tr>\n",
       "    <tr>\n",
       "      <th></th>\n",
       "      <th>max</th>\n",
       "      <th>min</th>\n",
       "      <th>sum</th>\n",
       "      <th>list</th>\n",
       "      <th>max</th>\n",
       "      <th>min</th>\n",
       "      <th>sum</th>\n",
       "      <th>list</th>\n",
       "      <th>max</th>\n",
       "      <th>min</th>\n",
       "      <th>sum</th>\n",
       "      <th>list</th>\n",
       "      <th>max</th>\n",
       "      <th>min</th>\n",
       "      <th>sum</th>\n",
       "      <th>list</th>\n",
       "    </tr>\n",
       "    <tr>\n",
       "      <th>class</th>\n",
       "      <th></th>\n",
       "      <th></th>\n",
       "      <th></th>\n",
       "      <th></th>\n",
       "      <th></th>\n",
       "      <th></th>\n",
       "      <th></th>\n",
       "      <th></th>\n",
       "      <th></th>\n",
       "      <th></th>\n",
       "      <th></th>\n",
       "      <th></th>\n",
       "      <th></th>\n",
       "      <th></th>\n",
       "      <th></th>\n",
       "      <th></th>\n",
       "    </tr>\n",
       "  </thead>\n",
       "  <tbody>\n",
       "    <tr>\n",
       "      <th>Iris-setosa</th>\n",
       "      <td>5.8</td>\n",
       "      <td>4.3</td>\n",
       "      <td>250.3</td>\n",
       "      <td>[5.1, 4.9, 4.7, 4.6, 5.0, 5.4, 4.6, 5.0, 4.4, ...</td>\n",
       "      <td>4.4</td>\n",
       "      <td>2.3</td>\n",
       "      <td>170.9</td>\n",
       "      <td>[3.5, 3.0, 3.2, 3.1, 3.6, 3.9, 3.4, 3.4, 2.9, ...</td>\n",
       "      <td>1.9</td>\n",
       "      <td>1.0</td>\n",
       "      <td>73.2</td>\n",
       "      <td>[1.4, 1.4, 1.3, 1.5, 1.4, 1.7, 1.4, 1.5, 1.4, ...</td>\n",
       "      <td>0.6</td>\n",
       "      <td>0.1</td>\n",
       "      <td>12.2</td>\n",
       "      <td>[0.2, 0.2, 0.2, 0.2, 0.2, 0.4, 0.3, 0.2, 0.2, ...</td>\n",
       "    </tr>\n",
       "    <tr>\n",
       "      <th>Iris-versicolor</th>\n",
       "      <td>7.0</td>\n",
       "      <td>4.9</td>\n",
       "      <td>296.8</td>\n",
       "      <td>[7.0, 6.4, 6.9, 5.5, 6.5, 5.7, 6.3, 4.9, 6.6, ...</td>\n",
       "      <td>3.4</td>\n",
       "      <td>2.0</td>\n",
       "      <td>138.5</td>\n",
       "      <td>[3.2, 3.2, 3.1, 2.3, 2.8, 2.8, 3.3, 2.4, 2.9, ...</td>\n",
       "      <td>5.1</td>\n",
       "      <td>3.0</td>\n",
       "      <td>213.0</td>\n",
       "      <td>[4.7, 4.5, 4.9, 4.0, 4.6, 4.5, 4.7, 3.3, 4.6, ...</td>\n",
       "      <td>1.8</td>\n",
       "      <td>1.0</td>\n",
       "      <td>66.3</td>\n",
       "      <td>[1.4, 1.5, 1.5, 1.3, 1.5, 1.3, 1.6, 1.0, 1.3, ...</td>\n",
       "    </tr>\n",
       "    <tr>\n",
       "      <th>Iris-virginica</th>\n",
       "      <td>7.9</td>\n",
       "      <td>4.9</td>\n",
       "      <td>329.4</td>\n",
       "      <td>[6.3, 5.8, 7.1, 6.3, 6.5, 7.6, 4.9, 7.3, 6.7, ...</td>\n",
       "      <td>3.8</td>\n",
       "      <td>2.2</td>\n",
       "      <td>148.7</td>\n",
       "      <td>[3.3, 2.7, 3.0, 2.9, 3.0, 3.0, 2.5, 2.9, 2.5, ...</td>\n",
       "      <td>6.9</td>\n",
       "      <td>4.5</td>\n",
       "      <td>277.6</td>\n",
       "      <td>[6.0, 5.1, 5.9, 5.6, 5.8, 6.6, 4.5, 6.3, 5.8, ...</td>\n",
       "      <td>2.5</td>\n",
       "      <td>1.4</td>\n",
       "      <td>101.3</td>\n",
       "      <td>[2.5, 1.9, 2.1, 1.8, 2.2, 2.1, 1.7, 1.8, 1.8, ...</td>\n",
       "    </tr>\n",
       "  </tbody>\n",
       "</table>\n",
       "</div>"
      ],
      "text/plain": [
       "                sepal_width              \\\n",
       "                        max  min    sum   \n",
       "class                                     \n",
       "Iris-setosa             5.8  4.3  250.3   \n",
       "Iris-versicolor         7.0  4.9  296.8   \n",
       "Iris-virginica          7.9  4.9  329.4   \n",
       "\n",
       "                                                                    \\\n",
       "                                                              list   \n",
       "class                                                                \n",
       "Iris-setosa      [5.1, 4.9, 4.7, 4.6, 5.0, 5.4, 4.6, 5.0, 4.4, ...   \n",
       "Iris-versicolor  [7.0, 6.4, 6.9, 5.5, 6.5, 5.7, 6.3, 4.9, 6.6, ...   \n",
       "Iris-virginica   [6.3, 5.8, 7.1, 6.3, 6.5, 7.6, 4.9, 7.3, 6.7, ...   \n",
       "\n",
       "                sepal_height              \\\n",
       "                         max  min    sum   \n",
       "class                                      \n",
       "Iris-setosa              4.4  2.3  170.9   \n",
       "Iris-versicolor          3.4  2.0  138.5   \n",
       "Iris-virginica           3.8  2.2  148.7   \n",
       "\n",
       "                                                                    \\\n",
       "                                                              list   \n",
       "class                                                                \n",
       "Iris-setosa      [3.5, 3.0, 3.2, 3.1, 3.6, 3.9, 3.4, 3.4, 2.9, ...   \n",
       "Iris-versicolor  [3.2, 3.2, 3.1, 2.3, 2.8, 2.8, 3.3, 2.4, 2.9, ...   \n",
       "Iris-virginica   [3.3, 2.7, 3.0, 2.9, 3.0, 3.0, 2.5, 2.9, 2.5, ...   \n",
       "\n",
       "                petal_width              \\\n",
       "                        max  min    sum   \n",
       "class                                     \n",
       "Iris-setosa             1.9  1.0   73.2   \n",
       "Iris-versicolor         5.1  3.0  213.0   \n",
       "Iris-virginica          6.9  4.5  277.6   \n",
       "\n",
       "                                                                    \\\n",
       "                                                              list   \n",
       "class                                                                \n",
       "Iris-setosa      [1.4, 1.4, 1.3, 1.5, 1.4, 1.7, 1.4, 1.5, 1.4, ...   \n",
       "Iris-versicolor  [4.7, 4.5, 4.9, 4.0, 4.6, 4.5, 4.7, 3.3, 4.6, ...   \n",
       "Iris-virginica   [6.0, 5.1, 5.9, 5.6, 5.8, 6.6, 4.5, 6.3, 5.8, ...   \n",
       "\n",
       "                petal_height              \\\n",
       "                         max  min    sum   \n",
       "class                                      \n",
       "Iris-setosa              0.6  0.1   12.2   \n",
       "Iris-versicolor          1.8  1.0   66.3   \n",
       "Iris-virginica           2.5  1.4  101.3   \n",
       "\n",
       "                                                                    \n",
       "                                                              list  \n",
       "class                                                               \n",
       "Iris-setosa      [0.2, 0.2, 0.2, 0.2, 0.2, 0.4, 0.3, 0.2, 0.2, ...  \n",
       "Iris-versicolor  [1.4, 1.5, 1.5, 1.3, 1.5, 1.3, 1.6, 1.0, 1.3, ...  \n",
       "Iris-virginica   [2.5, 1.9, 2.1, 1.8, 2.2, 2.1, 1.7, 1.8, 1.8, ...  "
      ]
     },
     "execution_count": 18,
     "metadata": {},
     "output_type": "execute_result"
    }
   ],
   "source": [
    "df.groupby('class').agg(['max', 'min', 'sum', list])"
   ]
  },
  {
   "cell_type": "markdown",
   "metadata": {},
   "source": [
    "## Concat"
   ]
  },
  {
   "cell_type": "code",
   "execution_count": 19,
   "metadata": {},
   "outputs": [],
   "source": [
    "# concat\n",
    "df_head = df.head()\n",
    "df_tail = df.tail()"
   ]
  },
  {
   "cell_type": "code",
   "execution_count": 20,
   "metadata": {},
   "outputs": [
    {
     "data": {
      "text/html": [
       "<div>\n",
       "<style scoped>\n",
       "    .dataframe tbody tr th:only-of-type {\n",
       "        vertical-align: middle;\n",
       "    }\n",
       "\n",
       "    .dataframe tbody tr th {\n",
       "        vertical-align: top;\n",
       "    }\n",
       "\n",
       "    .dataframe thead th {\n",
       "        text-align: right;\n",
       "    }\n",
       "</style>\n",
       "<table border=\"1\" class=\"dataframe\">\n",
       "  <thead>\n",
       "    <tr style=\"text-align: right;\">\n",
       "      <th></th>\n",
       "      <th>sepal_width</th>\n",
       "      <th>sepal_height</th>\n",
       "      <th>petal_width</th>\n",
       "      <th>petal_height</th>\n",
       "      <th>class</th>\n",
       "    </tr>\n",
       "  </thead>\n",
       "  <tbody>\n",
       "    <tr>\n",
       "      <th>0</th>\n",
       "      <td>5.1</td>\n",
       "      <td>3.5</td>\n",
       "      <td>1.4</td>\n",
       "      <td>0.2</td>\n",
       "      <td>Iris-setosa</td>\n",
       "    </tr>\n",
       "    <tr>\n",
       "      <th>1</th>\n",
       "      <td>4.9</td>\n",
       "      <td>3.0</td>\n",
       "      <td>1.4</td>\n",
       "      <td>0.2</td>\n",
       "      <td>Iris-setosa</td>\n",
       "    </tr>\n",
       "    <tr>\n",
       "      <th>2</th>\n",
       "      <td>4.7</td>\n",
       "      <td>3.2</td>\n",
       "      <td>1.3</td>\n",
       "      <td>0.2</td>\n",
       "      <td>Iris-setosa</td>\n",
       "    </tr>\n",
       "    <tr>\n",
       "      <th>3</th>\n",
       "      <td>4.6</td>\n",
       "      <td>3.1</td>\n",
       "      <td>1.5</td>\n",
       "      <td>0.2</td>\n",
       "      <td>Iris-setosa</td>\n",
       "    </tr>\n",
       "    <tr>\n",
       "      <th>4</th>\n",
       "      <td>5.0</td>\n",
       "      <td>3.6</td>\n",
       "      <td>1.4</td>\n",
       "      <td>0.2</td>\n",
       "      <td>Iris-setosa</td>\n",
       "    </tr>\n",
       "    <tr>\n",
       "      <th>145</th>\n",
       "      <td>6.7</td>\n",
       "      <td>3.0</td>\n",
       "      <td>5.2</td>\n",
       "      <td>2.3</td>\n",
       "      <td>Iris-virginica</td>\n",
       "    </tr>\n",
       "    <tr>\n",
       "      <th>146</th>\n",
       "      <td>6.3</td>\n",
       "      <td>2.5</td>\n",
       "      <td>5.0</td>\n",
       "      <td>1.9</td>\n",
       "      <td>Iris-virginica</td>\n",
       "    </tr>\n",
       "    <tr>\n",
       "      <th>147</th>\n",
       "      <td>6.5</td>\n",
       "      <td>3.0</td>\n",
       "      <td>5.2</td>\n",
       "      <td>2.0</td>\n",
       "      <td>Iris-virginica</td>\n",
       "    </tr>\n",
       "    <tr>\n",
       "      <th>148</th>\n",
       "      <td>6.2</td>\n",
       "      <td>3.4</td>\n",
       "      <td>5.4</td>\n",
       "      <td>2.3</td>\n",
       "      <td>Iris-virginica</td>\n",
       "    </tr>\n",
       "    <tr>\n",
       "      <th>149</th>\n",
       "      <td>5.9</td>\n",
       "      <td>3.0</td>\n",
       "      <td>5.1</td>\n",
       "      <td>1.8</td>\n",
       "      <td>Iris-virginica</td>\n",
       "    </tr>\n",
       "  </tbody>\n",
       "</table>\n",
       "</div>"
      ],
      "text/plain": [
       "     sepal_width  sepal_height  petal_width  petal_height           class\n",
       "0            5.1           3.5          1.4           0.2     Iris-setosa\n",
       "1            4.9           3.0          1.4           0.2     Iris-setosa\n",
       "2            4.7           3.2          1.3           0.2     Iris-setosa\n",
       "3            4.6           3.1          1.5           0.2     Iris-setosa\n",
       "4            5.0           3.6          1.4           0.2     Iris-setosa\n",
       "145          6.7           3.0          5.2           2.3  Iris-virginica\n",
       "146          6.3           2.5          5.0           1.9  Iris-virginica\n",
       "147          6.5           3.0          5.2           2.0  Iris-virginica\n",
       "148          6.2           3.4          5.4           2.3  Iris-virginica\n",
       "149          5.9           3.0          5.1           1.8  Iris-virginica"
      ]
     },
     "execution_count": 20,
     "metadata": {},
     "output_type": "execute_result"
    }
   ],
   "source": [
    "# concat (append row)\n",
    "pd.concat([df_head, df_tail], axis=0)"
   ]
  },
  {
   "cell_type": "code",
   "execution_count": 21,
   "metadata": {},
   "outputs": [
    {
     "data": {
      "text/html": [
       "<div>\n",
       "<style scoped>\n",
       "    .dataframe tbody tr th:only-of-type {\n",
       "        vertical-align: middle;\n",
       "    }\n",
       "\n",
       "    .dataframe tbody tr th {\n",
       "        vertical-align: top;\n",
       "    }\n",
       "\n",
       "    .dataframe thead th {\n",
       "        text-align: right;\n",
       "    }\n",
       "</style>\n",
       "<table border=\"1\" class=\"dataframe\">\n",
       "  <thead>\n",
       "    <tr style=\"text-align: right;\">\n",
       "      <th></th>\n",
       "      <th>sepal_width</th>\n",
       "      <th>sepal_height</th>\n",
       "      <th>petal_width</th>\n",
       "      <th>petal_height</th>\n",
       "      <th>class</th>\n",
       "      <th>sepal_width</th>\n",
       "      <th>sepal_height</th>\n",
       "      <th>petal_width</th>\n",
       "      <th>petal_height</th>\n",
       "      <th>class</th>\n",
       "    </tr>\n",
       "  </thead>\n",
       "  <tbody>\n",
       "    <tr>\n",
       "      <th>0</th>\n",
       "      <td>5.1</td>\n",
       "      <td>3.5</td>\n",
       "      <td>1.4</td>\n",
       "      <td>0.2</td>\n",
       "      <td>Iris-setosa</td>\n",
       "      <td>NaN</td>\n",
       "      <td>NaN</td>\n",
       "      <td>NaN</td>\n",
       "      <td>NaN</td>\n",
       "      <td>NaN</td>\n",
       "    </tr>\n",
       "    <tr>\n",
       "      <th>1</th>\n",
       "      <td>4.9</td>\n",
       "      <td>3.0</td>\n",
       "      <td>1.4</td>\n",
       "      <td>0.2</td>\n",
       "      <td>Iris-setosa</td>\n",
       "      <td>NaN</td>\n",
       "      <td>NaN</td>\n",
       "      <td>NaN</td>\n",
       "      <td>NaN</td>\n",
       "      <td>NaN</td>\n",
       "    </tr>\n",
       "    <tr>\n",
       "      <th>2</th>\n",
       "      <td>4.7</td>\n",
       "      <td>3.2</td>\n",
       "      <td>1.3</td>\n",
       "      <td>0.2</td>\n",
       "      <td>Iris-setosa</td>\n",
       "      <td>NaN</td>\n",
       "      <td>NaN</td>\n",
       "      <td>NaN</td>\n",
       "      <td>NaN</td>\n",
       "      <td>NaN</td>\n",
       "    </tr>\n",
       "    <tr>\n",
       "      <th>3</th>\n",
       "      <td>4.6</td>\n",
       "      <td>3.1</td>\n",
       "      <td>1.5</td>\n",
       "      <td>0.2</td>\n",
       "      <td>Iris-setosa</td>\n",
       "      <td>NaN</td>\n",
       "      <td>NaN</td>\n",
       "      <td>NaN</td>\n",
       "      <td>NaN</td>\n",
       "      <td>NaN</td>\n",
       "    </tr>\n",
       "    <tr>\n",
       "      <th>4</th>\n",
       "      <td>5.0</td>\n",
       "      <td>3.6</td>\n",
       "      <td>1.4</td>\n",
       "      <td>0.2</td>\n",
       "      <td>Iris-setosa</td>\n",
       "      <td>NaN</td>\n",
       "      <td>NaN</td>\n",
       "      <td>NaN</td>\n",
       "      <td>NaN</td>\n",
       "      <td>NaN</td>\n",
       "    </tr>\n",
       "    <tr>\n",
       "      <th>145</th>\n",
       "      <td>NaN</td>\n",
       "      <td>NaN</td>\n",
       "      <td>NaN</td>\n",
       "      <td>NaN</td>\n",
       "      <td>NaN</td>\n",
       "      <td>6.7</td>\n",
       "      <td>3.0</td>\n",
       "      <td>5.2</td>\n",
       "      <td>2.3</td>\n",
       "      <td>Iris-virginica</td>\n",
       "    </tr>\n",
       "    <tr>\n",
       "      <th>146</th>\n",
       "      <td>NaN</td>\n",
       "      <td>NaN</td>\n",
       "      <td>NaN</td>\n",
       "      <td>NaN</td>\n",
       "      <td>NaN</td>\n",
       "      <td>6.3</td>\n",
       "      <td>2.5</td>\n",
       "      <td>5.0</td>\n",
       "      <td>1.9</td>\n",
       "      <td>Iris-virginica</td>\n",
       "    </tr>\n",
       "    <tr>\n",
       "      <th>147</th>\n",
       "      <td>NaN</td>\n",
       "      <td>NaN</td>\n",
       "      <td>NaN</td>\n",
       "      <td>NaN</td>\n",
       "      <td>NaN</td>\n",
       "      <td>6.5</td>\n",
       "      <td>3.0</td>\n",
       "      <td>5.2</td>\n",
       "      <td>2.0</td>\n",
       "      <td>Iris-virginica</td>\n",
       "    </tr>\n",
       "    <tr>\n",
       "      <th>148</th>\n",
       "      <td>NaN</td>\n",
       "      <td>NaN</td>\n",
       "      <td>NaN</td>\n",
       "      <td>NaN</td>\n",
       "      <td>NaN</td>\n",
       "      <td>6.2</td>\n",
       "      <td>3.4</td>\n",
       "      <td>5.4</td>\n",
       "      <td>2.3</td>\n",
       "      <td>Iris-virginica</td>\n",
       "    </tr>\n",
       "    <tr>\n",
       "      <th>149</th>\n",
       "      <td>NaN</td>\n",
       "      <td>NaN</td>\n",
       "      <td>NaN</td>\n",
       "      <td>NaN</td>\n",
       "      <td>NaN</td>\n",
       "      <td>5.9</td>\n",
       "      <td>3.0</td>\n",
       "      <td>5.1</td>\n",
       "      <td>1.8</td>\n",
       "      <td>Iris-virginica</td>\n",
       "    </tr>\n",
       "  </tbody>\n",
       "</table>\n",
       "</div>"
      ],
      "text/plain": [
       "     sepal_width  sepal_height  petal_width  petal_height        class  \\\n",
       "0            5.1           3.5          1.4           0.2  Iris-setosa   \n",
       "1            4.9           3.0          1.4           0.2  Iris-setosa   \n",
       "2            4.7           3.2          1.3           0.2  Iris-setosa   \n",
       "3            4.6           3.1          1.5           0.2  Iris-setosa   \n",
       "4            5.0           3.6          1.4           0.2  Iris-setosa   \n",
       "145          NaN           NaN          NaN           NaN          NaN   \n",
       "146          NaN           NaN          NaN           NaN          NaN   \n",
       "147          NaN           NaN          NaN           NaN          NaN   \n",
       "148          NaN           NaN          NaN           NaN          NaN   \n",
       "149          NaN           NaN          NaN           NaN          NaN   \n",
       "\n",
       "     sepal_width  sepal_height  petal_width  petal_height           class  \n",
       "0            NaN           NaN          NaN           NaN             NaN  \n",
       "1            NaN           NaN          NaN           NaN             NaN  \n",
       "2            NaN           NaN          NaN           NaN             NaN  \n",
       "3            NaN           NaN          NaN           NaN             NaN  \n",
       "4            NaN           NaN          NaN           NaN             NaN  \n",
       "145          6.7           3.0          5.2           2.3  Iris-virginica  \n",
       "146          6.3           2.5          5.0           1.9  Iris-virginica  \n",
       "147          6.5           3.0          5.2           2.0  Iris-virginica  \n",
       "148          6.2           3.4          5.4           2.3  Iris-virginica  \n",
       "149          5.9           3.0          5.1           1.8  Iris-virginica  "
      ]
     },
     "execution_count": 21,
     "metadata": {},
     "output_type": "execute_result"
    }
   ],
   "source": [
    "# concat (append column)\n",
    "pd.concat([df_head, df_tail], axis=1)"
   ]
  },
  {
   "cell_type": "code",
   "execution_count": 22,
   "metadata": {},
   "outputs": [
    {
     "data": {
      "text/html": [
       "<div>\n",
       "<style scoped>\n",
       "    .dataframe tbody tr th:only-of-type {\n",
       "        vertical-align: middle;\n",
       "    }\n",
       "\n",
       "    .dataframe tbody tr th {\n",
       "        vertical-align: top;\n",
       "    }\n",
       "\n",
       "    .dataframe thead th {\n",
       "        text-align: right;\n",
       "    }\n",
       "</style>\n",
       "<table border=\"1\" class=\"dataframe\">\n",
       "  <thead>\n",
       "    <tr style=\"text-align: right;\">\n",
       "      <th></th>\n",
       "      <th>sepal_width</th>\n",
       "      <th>sepal_height</th>\n",
       "      <th>petal_width</th>\n",
       "      <th>petal_height</th>\n",
       "      <th>class</th>\n",
       "      <th>sepal_width</th>\n",
       "      <th>sepal_height</th>\n",
       "      <th>petal_width</th>\n",
       "      <th>petal_height</th>\n",
       "      <th>class</th>\n",
       "    </tr>\n",
       "  </thead>\n",
       "  <tbody>\n",
       "    <tr>\n",
       "      <th>0</th>\n",
       "      <td>5.1</td>\n",
       "      <td>3.5</td>\n",
       "      <td>1.4</td>\n",
       "      <td>0.2</td>\n",
       "      <td>Iris-setosa</td>\n",
       "      <td>6.7</td>\n",
       "      <td>3.0</td>\n",
       "      <td>5.2</td>\n",
       "      <td>2.3</td>\n",
       "      <td>Iris-virginica</td>\n",
       "    </tr>\n",
       "    <tr>\n",
       "      <th>1</th>\n",
       "      <td>4.9</td>\n",
       "      <td>3.0</td>\n",
       "      <td>1.4</td>\n",
       "      <td>0.2</td>\n",
       "      <td>Iris-setosa</td>\n",
       "      <td>6.3</td>\n",
       "      <td>2.5</td>\n",
       "      <td>5.0</td>\n",
       "      <td>1.9</td>\n",
       "      <td>Iris-virginica</td>\n",
       "    </tr>\n",
       "    <tr>\n",
       "      <th>2</th>\n",
       "      <td>4.7</td>\n",
       "      <td>3.2</td>\n",
       "      <td>1.3</td>\n",
       "      <td>0.2</td>\n",
       "      <td>Iris-setosa</td>\n",
       "      <td>6.5</td>\n",
       "      <td>3.0</td>\n",
       "      <td>5.2</td>\n",
       "      <td>2.0</td>\n",
       "      <td>Iris-virginica</td>\n",
       "    </tr>\n",
       "    <tr>\n",
       "      <th>3</th>\n",
       "      <td>4.6</td>\n",
       "      <td>3.1</td>\n",
       "      <td>1.5</td>\n",
       "      <td>0.2</td>\n",
       "      <td>Iris-setosa</td>\n",
       "      <td>6.2</td>\n",
       "      <td>3.4</td>\n",
       "      <td>5.4</td>\n",
       "      <td>2.3</td>\n",
       "      <td>Iris-virginica</td>\n",
       "    </tr>\n",
       "    <tr>\n",
       "      <th>4</th>\n",
       "      <td>5.0</td>\n",
       "      <td>3.6</td>\n",
       "      <td>1.4</td>\n",
       "      <td>0.2</td>\n",
       "      <td>Iris-setosa</td>\n",
       "      <td>5.9</td>\n",
       "      <td>3.0</td>\n",
       "      <td>5.1</td>\n",
       "      <td>1.8</td>\n",
       "      <td>Iris-virginica</td>\n",
       "    </tr>\n",
       "  </tbody>\n",
       "</table>\n",
       "</div>"
      ],
      "text/plain": [
       "   sepal_width  sepal_height  petal_width  petal_height        class  \\\n",
       "0          5.1           3.5          1.4           0.2  Iris-setosa   \n",
       "1          4.9           3.0          1.4           0.2  Iris-setosa   \n",
       "2          4.7           3.2          1.3           0.2  Iris-setosa   \n",
       "3          4.6           3.1          1.5           0.2  Iris-setosa   \n",
       "4          5.0           3.6          1.4           0.2  Iris-setosa   \n",
       "\n",
       "   sepal_width  sepal_height  petal_width  petal_height           class  \n",
       "0          6.7           3.0          5.2           2.3  Iris-virginica  \n",
       "1          6.3           2.5          5.0           1.9  Iris-virginica  \n",
       "2          6.5           3.0          5.2           2.0  Iris-virginica  \n",
       "3          6.2           3.4          5.4           2.3  Iris-virginica  \n",
       "4          5.9           3.0          5.1           1.8  Iris-virginica  "
      ]
     },
     "execution_count": 22,
     "metadata": {},
     "output_type": "execute_result"
    }
   ],
   "source": [
    "# should reset index before appending columns\n",
    "pd.concat([df_head.reset_index(drop=True), df_tail.reset_index(drop=True)], axis=1)"
   ]
  },
  {
   "cell_type": "markdown",
   "metadata": {},
   "source": [
    "# Matplotlib & Seaborn\n",
    "- standard plot: multiple axes + title + legend + sharex + sharey\n",
    "- scatterplot\n",
    "- distplot\n",
    "- pairplot"
   ]
  },
  {
   "cell_type": "code",
   "execution_count": 2,
   "metadata": {},
   "outputs": [],
   "source": [
    "import matplotlib.pyplot as plt"
   ]
  },
  {
   "cell_type": "code",
   "execution_count": 4,
   "metadata": {},
   "outputs": [
    {
     "data": {
      "image/png": "[encoded data removed]",
      "text/plain": [
       "<Figure size 2592x576 with 3 Axes>"
      ]
     },
     "metadata": {
      "needs_background": "light"
     },
     "output_type": "display_data"
    }
   ],
   "source": [
    "# matplotlib\n",
    "\n",
    "n_cols = n_classes = df['class'].unique().shape[0]\n",
    "n_rows = 1\n",
    "\n",
    "_, axs = plt.subplots(n_rows, n_cols, sharex=True, sharey=True, figsize=(12 * n_classes, 8))\n",
    "\n",
    "# petal width, height\n",
    "plot_cols = columns[2:4]\n",
    "\n",
    "for cls_name, ax in zip(df['class'].unique(), axs):\n",
    "    df_cls = df[df['class'] == cls_name]\n",
    "    x = df_cls[plot_cols[0]]\n",
    "    y = df_cls[plot_cols[1]]\n",
    "    ax.scatter(x, y)\n",
    "    ax.set_title('[%s] %s' % (cls_name, ', '.join(plot_cols)))    \n",
    "    ax.set_xlabel(plot_cols[0])\n",
    "    ax.set_ylabel(plot_cols[1])"
   ]
  },
  {
   "cell_type": "code",
   "execution_count": 25,
   "metadata": {},
   "outputs": [],
   "source": [
    "import seaborn as sns; sns.set(); sns.set_palette('Set1')"
   ]
  },
  {
   "cell_type": "code",
   "execution_count": 52,
   "metadata": {},
   "outputs": [
    {
     "data": {
      "image/png": "[encoded data removed]",
      "text/plain": [
       "<Figure size 864x576 with 1 Axes>"
      ]
     },
     "metadata": {},
     "output_type": "display_data"
    }
   ],
   "source": [
    "_, ax = plt.subplots(figsize=(12, 8))\n",
    "sns.scatterplot(x=plot_cols[0], y=plot_cols[1], hue='class', s=50, data=df, ax=ax)\n",
    "t = ax.set_title(\"Iris\")"
   ]
  },
  {
   "cell_type": "markdown",
   "metadata": {},
   "source": [
    "## Distplot"
   ]
  },
  {
   "cell_type": "code",
   "execution_count": 27,
   "metadata": {},
   "outputs": [
    {
     "data": {
      "image/png": "[encoded data removed]",
      "text/plain": [
       "<Figure size 2592x576 with 3 Axes>"
      ]
     },
     "metadata": {},
     "output_type": "display_data"
    }
   ],
   "source": [
    "n_classes = df['class'].unique().shape[0]\n",
    "\n",
    "_, axs = plt.subplots(1, n_classes, sharex=True, sharey=True, figsize=(12 * n_classes, 8))\n",
    "\n",
    "# petal width\n",
    "plot_col = columns[-2]\n",
    "\n",
    "for cls_name, ax in zip(df['class'].unique(), axs):\n",
    "    df_cls = df[df['class'] == cls_name]\n",
    "    x = df_cls[plot_cols[0]]\n",
    "    sns.distplot(x, ax=ax)\n",
    "    ax.set_title('[%s] %s' % (cls_name, plot_col))    "
   ]
  },
  {
   "cell_type": "markdown",
   "metadata": {},
   "source": [
    "## Pairplot"
   ]
  },
  {
   "cell_type": "code",
   "execution_count": 28,
   "metadata": {},
   "outputs": [
    {
     "data": {
      "image/png": "[encoded data removed]",
      "text/plain": [
       "<Figure size 834.6x720 with 20 Axes>"
      ]
     },
     "metadata": {},
     "output_type": "display_data"
    }
   ],
   "source": [
    "# pairplot\n",
    "ax = sns.pairplot(data=df, hue='class')"
   ]
  },
  {
   "cell_type": "markdown",
   "metadata": {},
   "source": [
    "# Scikit-learn\n",
    "- TSNE & PCA"
   ]
  },
  {
   "cell_type": "code",
   "execution_count": 29,
   "metadata": {},
   "outputs": [],
   "source": [
    "from sklearn.manifold import TSNE"
   ]
  },
  {
   "cell_type": "code",
   "execution_count": 30,
   "metadata": {},
   "outputs": [
    {
     "data": {
      "text/html": [
       "<div>\n",
       "<style scoped>\n",
       "    .dataframe tbody tr th:only-of-type {\n",
       "        vertical-align: middle;\n",
       "    }\n",
       "\n",
       "    .dataframe tbody tr th {\n",
       "        vertical-align: top;\n",
       "    }\n",
       "\n",
       "    .dataframe thead th {\n",
       "        text-align: right;\n",
       "    }\n",
       "</style>\n",
       "<table border=\"1\" class=\"dataframe\">\n",
       "  <thead>\n",
       "    <tr style=\"text-align: right;\">\n",
       "      <th></th>\n",
       "      <th>0</th>\n",
       "      <th>1</th>\n",
       "      <th>class</th>\n",
       "    </tr>\n",
       "  </thead>\n",
       "  <tbody>\n",
       "    <tr>\n",
       "      <th>0</th>\n",
       "      <td>-24.125929</td>\n",
       "      <td>-9.660797</td>\n",
       "      <td>Iris-setosa</td>\n",
       "    </tr>\n",
       "    <tr>\n",
       "      <th>1</th>\n",
       "      <td>-21.358610</td>\n",
       "      <td>-8.930276</td>\n",
       "      <td>Iris-setosa</td>\n",
       "    </tr>\n",
       "    <tr>\n",
       "      <th>2</th>\n",
       "      <td>-21.628103</td>\n",
       "      <td>-10.185795</td>\n",
       "      <td>Iris-setosa</td>\n",
       "    </tr>\n",
       "    <tr>\n",
       "      <th>3</th>\n",
       "      <td>-21.142851</td>\n",
       "      <td>-9.838694</td>\n",
       "      <td>Iris-setosa</td>\n",
       "    </tr>\n",
       "    <tr>\n",
       "      <th>4</th>\n",
       "      <td>-24.155525</td>\n",
       "      <td>-10.050741</td>\n",
       "      <td>Iris-setosa</td>\n",
       "    </tr>\n",
       "  </tbody>\n",
       "</table>\n",
       "</div>"
      ],
      "text/plain": [
       "           0          1        class\n",
       "0 -24.125929  -9.660797  Iris-setosa\n",
       "1 -21.358610  -8.930276  Iris-setosa\n",
       "2 -21.628103 -10.185795  Iris-setosa\n",
       "3 -21.142851  -9.838694  Iris-setosa\n",
       "4 -24.155525 -10.050741  Iris-setosa"
      ]
     },
     "execution_count": 30,
     "metadata": {},
     "output_type": "execute_result"
    }
   ],
   "source": [
    "X = df[df.columns[~df.columns.isin(['class'])]]\n",
    "X_emb = TSNE(n_components=2).fit_transform(X)\n",
    "\n",
    "df_tsned = pd.concat([pd.DataFrame(X_emb), df['class']], axis=1)\n",
    "df_tsned.head()"
   ]
  },
  {
   "cell_type": "code",
   "execution_count": 31,
   "metadata": {},
   "outputs": [
    {
     "data": {
      "image/png": "[encoded data removed]",
      "text/plain": [
       "<Figure size 576x576 with 1 Axes>"
      ]
     },
     "metadata": {},
     "output_type": "display_data"
    }
   ],
   "source": [
    "_, ax = plt.subplots(figsize=(8, 8))\n",
    "ax.set_title(\"Iris with TSNE\")\n",
    "ax = sns.scatterplot(x=0, y=1, hue='class', data=df_tsned)"
   ]
  },
  {
   "cell_type": "code",
   "execution_count": 32,
   "metadata": {},
   "outputs": [
    {
     "data": {
      "text/html": [
       "<div>\n",
       "<style scoped>\n",
       "    .dataframe tbody tr th:only-of-type {\n",
       "        vertical-align: middle;\n",
       "    }\n",
       "\n",
       "    .dataframe tbody tr th {\n",
       "        vertical-align: top;\n",
       "    }\n",
       "\n",
       "    .dataframe thead th {\n",
       "        text-align: right;\n",
       "    }\n",
       "</style>\n",
       "<table border=\"1\" class=\"dataframe\">\n",
       "  <thead>\n",
       "    <tr style=\"text-align: right;\">\n",
       "      <th></th>\n",
       "      <th>0</th>\n",
       "      <th>1</th>\n",
       "      <th>class</th>\n",
       "    </tr>\n",
       "  </thead>\n",
       "  <tbody>\n",
       "    <tr>\n",
       "      <th>0</th>\n",
       "      <td>-2.684207</td>\n",
       "      <td>0.326607</td>\n",
       "      <td>Iris-setosa</td>\n",
       "    </tr>\n",
       "    <tr>\n",
       "      <th>1</th>\n",
       "      <td>-2.715391</td>\n",
       "      <td>-0.169557</td>\n",
       "      <td>Iris-setosa</td>\n",
       "    </tr>\n",
       "    <tr>\n",
       "      <th>2</th>\n",
       "      <td>-2.889820</td>\n",
       "      <td>-0.137346</td>\n",
       "      <td>Iris-setosa</td>\n",
       "    </tr>\n",
       "    <tr>\n",
       "      <th>3</th>\n",
       "      <td>-2.746437</td>\n",
       "      <td>-0.311124</td>\n",
       "      <td>Iris-setosa</td>\n",
       "    </tr>\n",
       "    <tr>\n",
       "      <th>4</th>\n",
       "      <td>-2.728593</td>\n",
       "      <td>0.333925</td>\n",
       "      <td>Iris-setosa</td>\n",
       "    </tr>\n",
       "  </tbody>\n",
       "</table>\n",
       "</div>"
      ],
      "text/plain": [
       "          0         1        class\n",
       "0 -2.684207  0.326607  Iris-setosa\n",
       "1 -2.715391 -0.169557  Iris-setosa\n",
       "2 -2.889820 -0.137346  Iris-setosa\n",
       "3 -2.746437 -0.311124  Iris-setosa\n",
       "4 -2.728593  0.333925  Iris-setosa"
      ]
     },
     "execution_count": 32,
     "metadata": {},
     "output_type": "execute_result"
    }
   ],
   "source": [
    "from sklearn.decomposition import PCA\n",
    "\n",
    "X = df[df.columns[~df.columns.isin(['class'])]]\n",
    "X_emb = PCA(n_components=2).fit_transform(X)\n",
    "\n",
    "df_pca = pd.concat([pd.DataFrame(X_emb), df['class']], axis=1)\n",
    "df_pca.head()"
   ]
  },
  {
   "cell_type": "code",
   "execution_count": 33,
   "metadata": {},
   "outputs": [
    {
     "data": {
      "image/png": "[encoded data removed]",
      "text/plain": [
       "<Figure size 1080x432 with 2 Axes>"
      ]
     },
     "metadata": {},
     "output_type": "display_data"
    }
   ],
   "source": [
    "_, axs = plt.subplots(1, 2, figsize=(15, 6))\n",
    "for name, df_, ax in zip(['TSNE', 'PCA'], [df_tsned, df_pca], axs):\n",
    "    ax.set_title(\"Iris with %s\" % name)\n",
    "    ax = sns.scatterplot(x=0, y=1, hue='class', data=df_, ax=ax)"
   ]
  },
  {
   "cell_type": "markdown",
   "metadata": {},
   "source": [
    "# Numpy\n",
    "- np.random.rand\n",
    "- np.random.shuffle\n",
    "- np.argpartition"
   ]
  },
  {
   "cell_type": "code",
   "execution_count": 34,
   "metadata": {},
   "outputs": [],
   "source": [
    "import numpy as np"
   ]
  },
  {
   "cell_type": "markdown",
   "metadata": {},
   "source": [
    "## np.random.rand"
   ]
  },
  {
   "cell_type": "code",
   "execution_count": 35,
   "metadata": {},
   "outputs": [
    {
     "data": {
      "text/plain": [
       "array([[[[0.23596914, 0.63052918, 0.45262757, 0.03983192]],\n",
       "\n",
       "        [[0.29422977, 0.3827165 , 0.178095  , 0.42658722]]],\n",
       "\n",
       "\n",
       "       [[[0.36722413, 0.03945428, 0.839279  , 0.5419696 ]],\n",
       "\n",
       "        [[0.56697374, 0.01469283, 0.91012346, 0.28484523]]],\n",
       "\n",
       "\n",
       "       [[[0.5929922 , 0.28247202, 0.54765351, 0.41469043]],\n",
       "\n",
       "        [[0.15834033, 0.56116107, 0.33979348, 0.25653011]]]])"
      ]
     },
     "execution_count": 35,
     "metadata": {},
     "output_type": "execute_result"
    }
   ],
   "source": [
    "arr = np.random.rand(3,2,1,4)\n",
    "arr"
   ]
  },
  {
   "cell_type": "markdown",
   "metadata": {},
   "source": [
    "## np.random.shuffle"
   ]
  },
  {
   "cell_type": "code",
   "execution_count": 36,
   "metadata": {},
   "outputs": [
    {
     "name": "stdout",
     "output_type": "stream",
     "text": [
      "array([ 0.        ,  0.34482759,  0.68965517,  1.03448276,  1.37931034,\n",
      "        1.72413793,  2.06896552,  2.4137931 ,  2.75862069,  3.10344828,\n",
      "        3.44827586,  3.79310345,  4.13793103,  4.48275862,  4.82758621,\n",
      "        5.17241379,  5.51724138,  5.86206897,  6.20689655,  6.55172414,\n",
      "        6.89655172,  7.24137931,  7.5862069 ,  7.93103448,  8.27586207,\n",
      "        8.62068966,  8.96551724,  9.31034483,  9.65517241, 10.        ])\n"
     ]
    }
   ],
   "source": [
    "arr = np.linspace(0, 10, num=30)\n",
    "pp.pprint(arr)"
   ]
  },
  {
   "cell_type": "code",
   "execution_count": 37,
   "metadata": {},
   "outputs": [
    {
     "data": {
      "text/plain": [
       "array([ 1.03448276,  3.79310345,  4.13793103,  6.55172414,  5.51724138,\n",
       "        8.62068966,  1.37931034,  2.06896552,  0.34482759,  9.31034483,\n",
       "        9.65517241, 10.        ,  1.72413793,  8.96551724,  2.4137931 ,\n",
       "        8.27586207,  4.48275862,  3.10344828,  5.86206897,  4.82758621,\n",
       "        6.89655172,  7.24137931,  5.17241379,  3.44827586,  7.93103448,\n",
       "        6.20689655,  7.5862069 ,  0.68965517,  2.75862069,  0.        ])"
      ]
     },
     "execution_count": 37,
     "metadata": {},
     "output_type": "execute_result"
    }
   ],
   "source": [
    "np.random.shuffle(arr)\n",
    "arr"
   ]
  },
  {
   "cell_type": "markdown",
   "metadata": {},
   "source": [
    "## np.argpartition"
   ]
  },
  {
   "cell_type": "code",
   "execution_count": 38,
   "metadata": {},
   "outputs": [
    {
     "data": {
      "text/plain": [
       "array([ 8, 29, 27,  0,  6, 12,  7, 14, 28,  2, 23, 17,  1, 16, 13, 15,  5,\n",
       "       11, 18, 19, 20, 21, 22, 10, 24, 25, 26,  9,  3,  4])"
      ]
     },
     "execution_count": 38,
     "metadata": {},
     "output_type": "execute_result"
    }
   ],
   "source": [
    "k = 5\n",
    "min_k = np.argpartition(arr, k)\n",
    "min_k"
   ]
  },
  {
   "cell_type": "code",
   "execution_count": 39,
   "metadata": {},
   "outputs": [
    {
     "data": {
      "text/plain": [
       "array([ 0.34482759,  0.        ,  0.68965517,  1.03448276,  1.37931034,\n",
       "        1.72413793,  2.06896552,  2.4137931 ,  2.75862069,  4.13793103,\n",
       "        3.44827586,  3.10344828,  3.79310345,  4.48275862,  8.96551724,\n",
       "        8.27586207,  8.62068966, 10.        ,  5.86206897,  4.82758621,\n",
       "        6.89655172,  7.24137931,  5.17241379,  9.65517241,  7.93103448,\n",
       "        6.20689655,  7.5862069 ,  9.31034483,  6.55172414,  5.51724138])"
      ]
     },
     "execution_count": 39,
     "metadata": {},
     "output_type": "execute_result"
    }
   ],
   "source": [
    "arr[min_k]"
   ]
  },
  {
   "cell_type": "markdown",
   "metadata": {},
   "source": [
    "# Jupyter lab\n",
    "- %%time, %%timeit, %time\n",
    "- !cmd\n",
    "- turn off warning"
   ]
  },
  {
   "cell_type": "markdown",
   "metadata": {},
   "source": [
    "## %%time, %%timeit, %time, %timeit"
   ]
  },
  {
   "cell_type": "code",
   "execution_count": 40,
   "metadata": {},
   "outputs": [
    {
     "name": "stdout",
     "output_type": "stream",
     "text": [
      "CPU times: user 177 µs, sys: 3 µs, total: 180 µs\n",
      "Wall time: 184 µs\n"
     ]
    }
   ],
   "source": [
    "%%time\n",
    "# %%time, %time, %timeit\n",
    "a = [i // 2 for i in range(1000)]\n",
    "b = [i // 3 for i in range(1000)]\n",
    "c = sum([i - j for i,j  in zip(a, b)])"
   ]
  },
  {
   "cell_type": "code",
   "execution_count": 41,
   "metadata": {},
   "outputs": [
    {
     "name": "stdout",
     "output_type": "stream",
     "text": [
      "136 µs ± 3.98 µs per loop (mean ± std. dev. of 7 runs, 10000 loops each)\n"
     ]
    }
   ],
   "source": [
    "%%timeit\n",
    "a = [i // 2 for i in range(1000)]\n",
    "b = [i // 3 for i in range(1000)]\n",
    "c = sum([i - j for i,j  in zip(a, b)])"
   ]
  },
  {
   "cell_type": "code",
   "execution_count": 42,
   "metadata": {},
   "outputs": [
    {
     "name": "stdout",
     "output_type": "stream",
     "text": [
      "42.7 µs ± 183 ns per loop (mean ± std. dev. of 7 runs, 10000 loops each)\n",
      "CPU times: user 49 µs, sys: 0 ns, total: 49 µs\n",
      "Wall time: 52.9 µs\n",
      "CPU times: user 50 µs, sys: 0 ns, total: 50 µs\n",
      "Wall time: 52.9 µs\n"
     ]
    }
   ],
   "source": [
    "%timeit a = [i // 2 for i in range(1000)]\n",
    "%time b = [i // 3 for i in range(1000)]\n",
    "%time c = sum([i - j for i,j  in zip(a, b)])"
   ]
  },
  {
   "cell_type": "markdown",
   "metadata": {},
   "source": [
    "## !cmd"
   ]
  },
  {
   "cell_type": "code",
   "execution_count": 43,
   "metadata": {},
   "outputs": [
    {
     "name": "stdout",
     "output_type": "stream",
     "text": [
      "Requirement already satisfied: torch in /home/sriwatanasakdi/Desktop/etc/bunt_analysis/venv/lib/python3.6/site-packages (1.3.1)\n",
      "Requirement already satisfied: numpy in /home/sriwatanasakdi/Desktop/etc/bunt_analysis/venv/lib/python3.6/site-packages (from torch) (1.17.4)\n"
     ]
    }
   ],
   "source": [
    "!pip install torch"
   ]
  },
  {
   "cell_type": "code",
   "execution_count": 44,
   "metadata": {},
   "outputs": [
    {
     "name": "stdout",
     "output_type": "stream",
     "text": [
      "--2019-12-28 19:02:49--  http://speedtest.wdc01.softlayer.com/downloads/test10.zip\n",
      "Resolving speedtest.wdc01.softlayer.com (speedtest.wdc01.softlayer.com)... 158.85.230.20\n",
      "Connecting to speedtest.wdc01.softlayer.com (speedtest.wdc01.softlayer.com)|158.85.230.20|:80... connected.\n",
      "HTTP request sent, awaiting response... 200 OK\n",
      "Length: 11536384 (11M) [application/zip]\n",
      "Saving to: ‘/dev/null’\n",
      "\n",
      "/dev/null           100%[===================>]  11.00M   585KB/s    in 25s     \n",
      "\n",
      "2019-12-28 19:03:15 (442 KB/s) - ‘/dev/null’ saved [11536384/11536384]\n",
      "\n"
     ]
    }
   ],
   "source": [
    "!wget -O /dev/null http://speedtest.wdc01.softlayer.com/downloads/test10.zip"
   ]
  },
  {
   "cell_type": "markdown",
   "metadata": {},
   "source": [
    "## Turning off warnings"
   ]
  },
  {
   "cell_type": "code",
   "execution_count": 45,
   "metadata": {},
   "outputs": [],
   "source": [
    "import warnings"
   ]
  },
  {
   "cell_type": "code",
   "execution_count": 46,
   "metadata": {},
   "outputs": [],
   "source": [
    "import torch\n",
    "import torch.nn.functional as F"
   ]
  },
  {
   "cell_type": "code",
   "execution_count": 47,
   "metadata": {},
   "outputs": [
    {
     "name": "stderr",
     "output_type": "stream",
     "text": [
      "/home/sriwatanasakdi/Desktop/etc/bunt_analysis/venv/lib/python3.6/site-packages/ipykernel_launcher.py:2: UserWarning: Implicit dimension choice for log_softmax has been deprecated. Change the call to include dim=X as an argument.\n",
      "  \n"
     ]
    },
    {
     "data": {
      "text/plain": [
       "tensor([[-4.4519, -3.4519, -2.4519, -1.4519, -0.4519]])"
      ]
     },
     "execution_count": 47,
     "metadata": {},
     "output_type": "execute_result"
    }
   ],
   "source": [
    "tensor = torch.FloatTensor([[1,2,3,4,5]])\n",
    "F.log_softmax(tensor)"
   ]
  },
  {
   "cell_type": "code",
   "execution_count": 48,
   "metadata": {},
   "outputs": [],
   "source": [
    "warnings.filterwarnings('ignore')"
   ]
  },
  {
   "cell_type": "code",
   "execution_count": 49,
   "metadata": {},
   "outputs": [
    {
     "data": {
      "text/plain": [
       "tensor([[-4.4519, -3.4519, -2.4519, -1.4519, -0.4519]])"
      ]
     },
     "execution_count": 49,
     "metadata": {},
     "output_type": "execute_result"
    }
   ],
   "source": [
    "F.log_softmax(tensor)"
   ]
  },
  {
   "cell_type": "code",
   "execution_count": null,
   "metadata": {},
   "outputs": [],
   "source": []
  }
 ],
 "metadata": {
  "kernelspec": {
   "display_name": "Python 3",
   "language": "python",
   "name": "python3"
  },
  "language_info": {
   "codemirror_mode": {
    "name": "ipython",
    "version": 3
   },
   "file_extension": ".py",
   "mimetype": "text/x-python",
   "name": "python",
   "nbconvert_exporter": "python",
   "pygments_lexer": "ipython3",
   "version": "3.6.9"
  }
 },
 "nbformat": 4,
 "nbformat_minor": 4
}
