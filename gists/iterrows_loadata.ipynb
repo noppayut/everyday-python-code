{
 "cells": [
  {
   "cell_type": "markdown",
   "metadata": {},
   "source": [
    "# Pandas\n",
    "- iterrows & load data\n",
    "- head / tail / sample\n",
    "- iterrows()\n",
    "- groupby -> agg\n",
    "- concat (axis=0, axis=1)\n",
    "- apply + more than one arg"
   ]
  },
  {
   "cell_type": "markdown",
   "metadata": {},
   "source": [
    "## Iterrows & load data"
   ]
  },
  {
   "cell_type": "code",
   "execution_count": 12,
   "metadata": {},
   "outputs": [
    {
     "name": "stdout",
     "output_type": "stream",
     "text": [
      "[('sepal', 'width'), ('sepal', 'height'), ('petal', 'width'), ('petal', 'height')]\n"
     ]
    }
   ],
   "source": [
    "import pandas as pd\n",
    "\n",
    "from itertools import product\n",
    "\n",
    "filepath = 'iris/iris.data'\n",
    "\n",
    "parts = ['sepal', 'petal']\n",
    "axes = ['width', 'height']\n",
    "\n",
    "# [('sepal', 'width'), ('sepal', 'height'), ('petal', 'width'), ('petal', 'height')]\n",
    "parts_axes = list(product(parts, axes))\n",
    "print(parts_axes)\n",
    "columns = list(map(lambda x: '%s_%s' % (x[0], x[1]), parts_axes)) + ['class']\n",
    "\n",
    "df = pd.read_csv(filepath, names=columns)"
   ]
  },
  {
   "cell_type": "code",
   "execution_count": 55,
   "metadata": {},
   "outputs": [
    {
     "name": "stdout",
     "output_type": "stream",
     "text": [
      "118 7.7 Iris-virginica\n",
      "15 5.7 Iris-setosa\n",
      "69 5.6 Iris-versicolor\n",
      "63 6.1 Iris-versicolor\n",
      "34 4.9 Iris-setosa\n",
      "119 6.0 Iris-virginica\n",
      "134 6.1 Iris-virginica\n",
      "25 5.0 Iris-setosa\n",
      "114 5.8 Iris-virginica\n",
      "97 6.2 Iris-versicolor\n"
     ]
    }
   ],
   "source": [
    "idx_and_rows = list(df.sample(10).iterrows())\n",
    "for idx, row in idx_and_rows:\n",
    "    print(idx, row['sepal_width'], row['class'])"
   ]
  }
 ],
 "metadata": {
  "kernelspec": {
   "display_name": "Python 3",
   "language": "python",
   "name": "python3"
  },
  "language_info": {
   "codemirror_mode": {
    "name": "ipython",
    "version": 3
   },
   "file_extension": ".py",
   "mimetype": "text/x-python",
   "name": "python",
   "nbconvert_exporter": "python",
   "pygments_lexer": "ipython3",
   "version": "3.6.9"
  }
 },
 "nbformat": 4,
 "nbformat_minor": 4
}
