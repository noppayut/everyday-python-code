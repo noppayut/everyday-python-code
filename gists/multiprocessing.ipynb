{
 "cells": [
  {
   "cell_type": "markdown",
   "metadata": {},
   "source": [
    "## Multiprocessing\n"
   ]
  },
  {
   "cell_type": "code",
   "execution_count": 5,
   "metadata": {},
   "outputs": [],
   "source": [
    "from multiprocessing import Pool\n",
    "\n",
    "def read_and_tokenize(filepath):\n",
    "    try:\n",
    "        with open(filepath, 'r', encoding='utf-8') as f:\n",
    "            text = f.read()\n",
    "    except UnicodeDecodeError:\n",
    "        text = ''\n",
    "    except FileNotFoundError:\n",
    "        text = ''\n",
    "    return nltk.pos_tag(nltk.word_tokenize(text))"
   ]
  },
  {
   "cell_type": "code",
   "execution_count": 6,
   "metadata": {},
   "outputs": [
    {
     "name": "stdout",
     "output_type": "stream",
     "text": [
      "CPU times: user 2.97 s, sys: 779 ms, total: 3.75 s\n",
      "Wall time: 2min 5s\n"
     ]
    }
   ],
   "source": [
    "%%time\n",
    "n_cpus = os.cpu_count()\n",
    "with Pool(n_cpus) as p:\n",
    "    tagged_files = p.map(read_and_tokenize, data_paths)\n",
    "    p.close()\n",
    "    p.join()"
   ]
  },
  {
   "cell_type": "code",
   "execution_count": 7,
   "metadata": {},
   "outputs": [
    {
     "name": "stdout",
     "output_type": "stream",
     "text": [
      "CPU times: user 5min 34s, sys: 1.1 s, total: 5min 35s\n",
      "Wall time: 5min 35s\n"
     ]
    }
   ],
   "source": [
    "%%time\n",
    "tagged_files = [read_and_tokenize(fpath) for fpath in data_paths]"
   ]
  },
  {
   "cell_type": "code",
   "execution_count": 8,
   "metadata": {},
   "outputs": [
    {
     "name": "stdout",
     "output_type": "stream",
     "text": [
      "[   ('Newsgroups', 'NNS'),\n",
      "    (':', ':'),\n",
      "    ('rec.motorcycles', 'NNS'),\n",
      "    ('Path', 'NNP'),\n",
      "    (':', ':'),\n",
      "    ('cantaloupe.srv.cs.cmu.edu', 'NN'),\n",
      "    ('!', '.'),\n",
      "    ('das-news.harvard.edu', 'NN'),\n",
      "    ('!', '.'),\n",
      "    ('noc.near.net', 'NN')]\n"
     ]
    }
   ],
   "source": [
    "pp.pprint(tagged_files[0][:10])"
   ]
  }
 ],
 "metadata": {
  "kernelspec": {
   "display_name": "Python 3",
   "language": "python",
   "name": "python3"
  },
  "language_info": {
   "codemirror_mode": {
    "name": "ipython",
    "version": 3
   },
   "file_extension": ".py",
   "mimetype": "text/x-python",
   "name": "python",
   "nbconvert_exporter": "python",
   "pygments_lexer": "ipython3",
   "version": "3.6.9"
  }
 },
 "nbformat": 4,
 "nbformat_minor": 4
}
