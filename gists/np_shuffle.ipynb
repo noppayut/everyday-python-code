{
 "cells": [
  {
   "cell_type": "markdown",
   "metadata": {},
   "source": [
    "## np.random.shuffle"
   ]
  },
  {
   "cell_type": "code",
   "execution_count": 36,
   "metadata": {},
   "outputs": [
    {
     "name": "stdout",
     "output_type": "stream",
     "text": [
      "array([ 0.        ,  0.34482759,  0.68965517,  1.03448276,  1.37931034,\n",
      "        1.72413793,  2.06896552,  2.4137931 ,  2.75862069,  3.10344828,\n",
      "        3.44827586,  3.79310345,  4.13793103,  4.48275862,  4.82758621,\n",
      "        5.17241379,  5.51724138,  5.86206897,  6.20689655,  6.55172414,\n",
      "        6.89655172,  7.24137931,  7.5862069 ,  7.93103448,  8.27586207,\n",
      "        8.62068966,  8.96551724,  9.31034483,  9.65517241, 10.        ])\n"
     ]
    }
   ],
   "source": [
    "arr = np.linspace(0, 10, num=30)\n",
    "pp.pprint(arr)"
   ]
  },
  {
   "cell_type": "code",
   "execution_count": 37,
   "metadata": {},
   "outputs": [
    {
     "data": {
      "text/plain": [
       "array([ 1.03448276,  3.79310345,  4.13793103,  6.55172414,  5.51724138,\n",
       "        8.62068966,  1.37931034,  2.06896552,  0.34482759,  9.31034483,\n",
       "        9.65517241, 10.        ,  1.72413793,  8.96551724,  2.4137931 ,\n",
       "        8.27586207,  4.48275862,  3.10344828,  5.86206897,  4.82758621,\n",
       "        6.89655172,  7.24137931,  5.17241379,  3.44827586,  7.93103448,\n",
       "        6.20689655,  7.5862069 ,  0.68965517,  2.75862069,  0.        ])"
      ]
     },
     "execution_count": 37,
     "metadata": {},
     "output_type": "execute_result"
    }
   ],
   "source": [
    "np.random.shuffle(arr)\n",
    "arr"
   ]
  }
 ],
 "metadata": {
  "kernelspec": {
   "display_name": "Python 3",
   "language": "python",
   "name": "python3"
  },
  "language_info": {
   "codemirror_mode": {
    "name": "ipython",
    "version": 3
   },
   "file_extension": ".py",
   "mimetype": "text/x-python",
   "name": "python",
   "nbconvert_exporter": "python",
   "pygments_lexer": "ipython3",
   "version": "3.6.9"
  }
 },
 "nbformat": 4,
 "nbformat_minor": 4
}
