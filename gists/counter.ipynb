{
 "cells": [
  {
   "cell_type": "markdown",
   "metadata": {},
   "source": [
    "## Counter"
   ]
  },
  {
   "cell_type": "code",
   "execution_count": 9,
   "metadata": {},
   "outputs": [
    {
     "name": "stdout",
     "output_type": "stream",
     "text": [
      "[   ('>', 327196),\n",
      "    (':', 307266),\n",
      "    (',', 303667),\n",
      "    ('.', 251231),\n",
      "    ('!', 230193),\n",
      "    ('the', 225483),\n",
      "    ('--', 185469),\n",
      "    ('@', 150729),\n",
      "    ('to', 124878),\n",
      "    (')', 123829)]\n"
     ]
    }
   ],
   "source": [
    "from collections import Counter\n",
    "\n",
    "cc = Counter()\n",
    "for tagged_file in tagged_files:\n",
    "    words = [word for word, _ in tagged_file]\n",
    "    cc.update(words)\n",
    "pp.pprint(cc.most_common(10))"
   ]
  }
 ],
 "metadata": {
  "kernelspec": {
   "display_name": "Python 3",
   "language": "python",
   "name": "python3"
  },
  "language_info": {
   "codemirror_mode": {
    "name": "ipython",
    "version": 3
   },
   "file_extension": ".py",
   "mimetype": "text/x-python",
   "name": "python",
   "nbconvert_exporter": "python",
   "pygments_lexer": "ipython3",
   "version": "3.6.9"
  }
 },
 "nbformat": 4,
 "nbformat_minor": 4
}
