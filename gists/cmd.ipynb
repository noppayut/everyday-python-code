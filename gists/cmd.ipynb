{
 "cells": [
  {
   "cell_type": "markdown",
   "metadata": {},
   "source": [
    "## !cmd"
   ]
  },
  {
   "cell_type": "code",
   "execution_count": 43,
   "metadata": {},
   "outputs": [
    {
     "name": "stdout",
     "output_type": "stream",
     "text": [
      "Requirement already satisfied: torch in /venv/lib/python3.6/site-packages (1.3.1)\n",
      "Requirement already satisfied: numpy in /venv/lib/python3.6/site-packages (from torch) (1.17.4)\n"
     ]
    }
   ],
   "source": [
    "!pip install torch"
   ]
  },
  {
   "cell_type": "code",
   "execution_count": 44,
   "metadata": {},
   "outputs": [
    {
     "name": "stdout",
     "output_type": "stream",
     "text": [
      "--2019-12-28 19:02:49--  http://speedtest.wdc01.softlayer.com/downloads/test10.zip\n",
      "Resolving speedtest.wdc01.softlayer.com (speedtest.wdc01.softlayer.com)... 158.85.230.20\n",
      "Connecting to speedtest.wdc01.softlayer.com (speedtest.wdc01.softlayer.com)|158.85.230.20|:80... connected.\n",
      "HTTP request sent, awaiting response... 200 OK\n",
      "Length: 11536384 (11M) [application/zip]\n",
      "Saving to: ‘/dev/null’\n",
      "\n",
      "/dev/null           100%[===================>]  11.00M   585KB/s    in 25s     \n",
      "\n",
      "2019-12-28 19:03:15 (442 KB/s) - ‘/dev/null’ saved [11536384/11536384]\n",
      "\n"
     ]
    }
   ],
   "source": [
    "!wget -O /dev/null http://speedtest.wdc01.softlayer.com/downloads/test10.zip"
   ]
  }
 ],
 "metadata": {
  "kernelspec": {
   "display_name": "Python 3",
   "language": "python",
   "name": "python3"
  },
  "language_info": {
   "codemirror_mode": {
    "name": "ipython",
    "version": 3
   },
   "file_extension": ".py",
   "mimetype": "text/x-python",
   "name": "python",
   "nbconvert_exporter": "python",
   "pygments_lexer": "ipython3",
   "version": "3.6.9"
  }
 },
 "nbformat": 4,
 "nbformat_minor": 4
}
