{
 "cells": [
  {
   "cell_type": "markdown",
   "metadata": {},
   "source": [
    "# Numpy\n",
    "- np.random.rand\n",
    "- np.random.shuffle\n",
    "- np.argpartition"
   ]
  },
  {
   "cell_type": "code",
   "execution_count": 34,
   "metadata": {},
   "outputs": [],
   "source": [
    "import numpy as np"
   ]
  },
  {
   "cell_type": "markdown",
   "metadata": {},
   "source": [
    "## np.random.rand"
   ]
  },
  {
   "cell_type": "code",
   "execution_count": 35,
   "metadata": {},
   "outputs": [
    {
     "data": {
      "text/plain": [
       "array([[[[0.23596914, 0.63052918, 0.45262757, 0.03983192]],\n",
       "\n",
       "        [[0.29422977, 0.3827165 , 0.178095  , 0.42658722]]],\n",
       "\n",
       "\n",
       "       [[[0.36722413, 0.03945428, 0.839279  , 0.5419696 ]],\n",
       "\n",
       "        [[0.56697374, 0.01469283, 0.91012346, 0.28484523]]],\n",
       "\n",
       "\n",
       "       [[[0.5929922 , 0.28247202, 0.54765351, 0.41469043]],\n",
       "\n",
       "        [[0.15834033, 0.56116107, 0.33979348, 0.25653011]]]])"
      ]
     },
     "execution_count": 35,
     "metadata": {},
     "output_type": "execute_result"
    }
   ],
   "source": [
    "arr = np.random.rand(3,2,1,4)\n",
    "arr"
   ]
  }
 ],
 "metadata": {
  "kernelspec": {
   "display_name": "Python 3",
   "language": "python",
   "name": "python3"
  },
  "language_info": {
   "codemirror_mode": {
    "name": "ipython",
    "version": 3
   },
   "file_extension": ".py",
   "mimetype": "text/x-python",
   "name": "python",
   "nbconvert_exporter": "python",
   "pygments_lexer": "ipython3",
   "version": "3.6.9"
  }
 },
 "nbformat": 4,
 "nbformat_minor": 4
}
