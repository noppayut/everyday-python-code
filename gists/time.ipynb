{
 "cells": [
  {
   "cell_type": "markdown",
   "metadata": {},
   "source": [
    "# Jupyter lab\n",
    "- %%time, %%timeit, %time\n",
    "- !cmd\n",
    "- turn off warning"
   ]
  },
  {
   "cell_type": "markdown",
   "metadata": {},
   "source": [
    "## %%time, %%timeit, %time, %timeit"
   ]
  },
  {
   "cell_type": "code",
   "execution_count": 40,
   "metadata": {},
   "outputs": [
    {
     "name": "stdout",
     "output_type": "stream",
     "text": [
      "CPU times: user 177 µs, sys: 3 µs, total: 180 µs\n",
      "Wall time: 184 µs\n"
     ]
    }
   ],
   "source": [
    "%%time\n",
    "a = [i // 2 for i in range(1000)]\n",
    "b = [i // 3 for i in range(1000)]\n",
    "c = sum([i - j for i,j  in zip(a, b)])"
   ]
  },
  {
   "cell_type": "code",
   "execution_count": 41,
   "metadata": {},
   "outputs": [
    {
     "name": "stdout",
     "output_type": "stream",
     "text": [
      "136 µs ± 3.98 µs per loop (mean ± std. dev. of 7 runs, 10000 loops each)\n"
     ]
    }
   ],
   "source": [
    "%%timeit\n",
    "a = [i // 2 for i in range(1000)]\n",
    "b = [i // 3 for i in range(1000)]\n",
    "c = sum([i - j for i,j  in zip(a, b)])"
   ]
  },
  {
   "cell_type": "code",
   "execution_count": 42,
   "metadata": {},
   "outputs": [
    {
     "name": "stdout",
     "output_type": "stream",
     "text": [
      "42.7 µs ± 183 ns per loop (mean ± std. dev. of 7 runs, 10000 loops each)\n",
      "CPU times: user 49 µs, sys: 0 ns, total: 49 µs\n",
      "Wall time: 52.9 µs\n",
      "CPU times: user 50 µs, sys: 0 ns, total: 50 µs\n",
      "Wall time: 52.9 µs\n"
     ]
    }
   ],
   "source": [
    "%timeit a = [i // 2 for i in range(1000)]\n",
    "%time b = [i // 3 for i in range(1000)]\n",
    "%time c = sum([i - j for i,j  in zip(a, b)])"
   ]
  }
 ],
 "metadata": {
  "kernelspec": {
   "display_name": "Python 3",
   "language": "python",
   "name": "python3"
  },
  "language_info": {
   "codemirror_mode": {
    "name": "ipython",
    "version": 3
   },
   "file_extension": ".py",
   "mimetype": "text/x-python",
   "name": "python",
   "nbconvert_exporter": "python",
   "pygments_lexer": "ipython3",
   "version": "3.6.9"
  }
 },
 "nbformat": 4,
 "nbformat_minor": 4
}
