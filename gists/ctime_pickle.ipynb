{
 "cells": [
  {
   "cell_type": "markdown",
   "metadata": {},
   "source": [
    "## Current datetime"
   ]
  },
  {
   "cell_type": "code",
   "execution_count": 10,
   "metadata": {},
   "outputs": [
    {
     "name": "stdout",
     "output_type": "stream",
     "text": [
      "2019-12-28 19:02:15\n"
     ]
    }
   ],
   "source": [
    "import datetime\n",
    "cTime = datetime.datetime.now().strftime('%Y-%m-%d %H:%M:%S')\n",
    "print(cTime)"
   ]
  },
  {
   "cell_type": "markdown",
   "metadata": {},
   "source": [
    "## Pickle"
   ]
  },
  {
   "cell_type": "code",
   "execution_count": 11,
   "metadata": {},
   "outputs": [
    {
     "name": "stdout",
     "output_type": "stream",
     "text": [
      "19997\n",
      "[   ('Newsgroups', 'NNS'),\n",
      "    (':', ':'),\n",
      "    ('rec.motorcycles', 'NNS'),\n",
      "    ('Path', 'NNP'),\n",
      "    (':', ':'),\n",
      "    ('cantaloupe.srv.cs.cmu.edu', 'NN'),\n",
      "    ('!', '.'),\n",
      "    ('das-news.harvard.edu', 'NN'),\n",
      "    ('!', '.'),\n",
      "    ('noc.near.net', 'NN')]\n"
     ]
    }
   ],
   "source": [
    "import pickle\n",
    "\n",
    "pickle_save_path = 'tagged_files_%s.pkl' % cTime\n",
    "\n",
    "with open(pickle_save_path, 'wb') as f:\n",
    "    pickle.dump(tagged_files, f)\n",
    "\n",
    "with open(pickle_save_path, 'rb') as f:\n",
    "    loaded_tagged_files = pickle.load(f)\n",
    "\n",
    "print(len(loaded_tagged_files))\n",
    "pp.pprint(loaded_tagged_files[0][:10])"
   ]
  }
 ],
 "metadata": {
  "kernelspec": {
   "display_name": "Python 3",
   "language": "python",
   "name": "python3"
  },
  "language_info": {
   "codemirror_mode": {
    "name": "ipython",
    "version": 3
   },
   "file_extension": ".py",
   "mimetype": "text/x-python",
   "name": "python",
   "nbconvert_exporter": "python",
   "pygments_lexer": "ipython3",
   "version": "3.6.9"
  }
 },
 "nbformat": 4,
 "nbformat_minor": 4
}
