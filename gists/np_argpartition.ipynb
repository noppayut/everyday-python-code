{
 "cells": [
  {
   "cell_type": "markdown",
   "metadata": {},
   "source": [
    "## np.argpartition"
   ]
  },
  {
   "cell_type": "code",
   "execution_count": 38,
   "metadata": {},
   "outputs": [
    {
     "data": {
      "text/plain": [
       "array([ 8, 29, 27,  0,  6, 12,  7, 14, 28,  2, 23, 17,  1, 16, 13, 15,  5,\n",
       "       11, 18, 19, 20, 21, 22, 10, 24, 25, 26,  9,  3,  4])"
      ]
     },
     "execution_count": 38,
     "metadata": {},
     "output_type": "execute_result"
    }
   ],
   "source": [
    "k = 5\n",
    "min_k = np.argpartition(arr, k)\n",
    "min_k"
   ]
  },
  {
   "cell_type": "code",
   "execution_count": 39,
   "metadata": {},
   "outputs": [
    {
     "data": {
      "text/plain": [
       "array([ 0.34482759,  0.        ,  0.68965517,  1.03448276,  1.37931034,\n",
       "        1.72413793,  2.06896552,  2.4137931 ,  2.75862069,  4.13793103,\n",
       "        3.44827586,  3.10344828,  3.79310345,  4.48275862,  8.96551724,\n",
       "        8.27586207,  8.62068966, 10.        ,  5.86206897,  4.82758621,\n",
       "        6.89655172,  7.24137931,  5.17241379,  9.65517241,  7.93103448,\n",
       "        6.20689655,  7.5862069 ,  9.31034483,  6.55172414,  5.51724138])"
      ]
     },
     "execution_count": 39,
     "metadata": {},
     "output_type": "execute_result"
    }
   ],
   "source": [
    "arr[min_k]"
   ]
  }
 ],
 "metadata": {
  "kernelspec": {
   "display_name": "Python 3",
   "language": "python",
   "name": "python3"
  },
  "language_info": {
   "codemirror_mode": {
    "name": "ipython",
    "version": 3
   },
   "file_extension": ".py",
   "mimetype": "text/x-python",
   "name": "python",
   "nbconvert_exporter": "python",
   "pygments_lexer": "ipython3",
   "version": "3.6.9"
  }
 },
 "nbformat": 4,
 "nbformat_minor": 4
}
