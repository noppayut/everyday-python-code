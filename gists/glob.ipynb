{
 "cells": [
  {
   "cell_type": "markdown",
   "metadata": {},
   "source": [
    "## Glob"
   ]
  },
  {
   "cell_type": "code",
   "execution_count": 4,
   "metadata": {},
   "outputs": [
    {
     "name": "stdout",
     "output_type": "stream",
     "text": [
      "[   '20news-19997/20_newsgroups/rec.motorcycles/104606',\n",
      "    '20news-19997/20_newsgroups/rec.motorcycles/104381',\n",
      "    '20news-19997/20_newsgroups/rec.motorcycles/104798',\n",
      "    '20news-19997/20_newsgroups/rec.motorcycles/105236',\n",
      "    '20news-19997/20_newsgroups/rec.motorcycles/104307',\n",
      "    '20news-19997/20_newsgroups/rec.motorcycles/105125',\n",
      "    '20news-19997/20_newsgroups/rec.motorcycles/104731',\n",
      "    '20news-19997/20_newsgroups/rec.motorcycles/104696',\n",
      "    '20news-19997/20_newsgroups/rec.motorcycles/104516',\n",
      "    '20news-19997/20_newsgroups/rec.motorcycles/104494']\n"
     ]
    }
   ],
   "source": [
    "import glob\n",
    "\n",
    "data_path_pattern = '20news-19997/20_newsgroups/*/*'\n",
    "data_paths = glob.glob(data_path_pattern)\n",
    "pp.pprint(data_paths[:10])"
   ]
  }
 ],
 "metadata": {
  "kernelspec": {
   "display_name": "Python 3",
   "language": "python",
   "name": "python3"
  },
  "language_info": {
   "codemirror_mode": {
    "name": "ipython",
    "version": 3
   },
   "file_extension": ".py",
   "mimetype": "text/x-python",
   "name": "python",
   "nbconvert_exporter": "python",
   "pygments_lexer": "ipython3",
   "version": "3.6.9"
  }
 },
 "nbformat": 4,
 "nbformat_minor": 4
}
