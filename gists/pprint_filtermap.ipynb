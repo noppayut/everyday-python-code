{
 "cells": [
  {
   "cell_type": "markdown",
   "metadata": {},
   "source": [
    "## PrettyPrinter & Filter / Map"
   ]
  },
  {
   "cell_type": "code",
   "execution_count": 2,
   "metadata": {},
   "outputs": [],
   "source": [
    "from pprint import PrettyPrinter\n",
    "\n",
    "pp = PrettyPrinter(indent=4)"
   ]
  },
  {
   "cell_type": "code",
   "execution_count": 3,
   "metadata": {},
   "outputs": [
    {
     "name": "stdout",
     "output_type": "stream",
     "text": [
      "200 [(0, 0, 0), (1, 2, 3), (2, 4, 6), (3, 6, 9), (4, 8, 12), (5, 10, 15), (6, 12, 18), (7, 14, 21), (8, 16, 24), (9, 18, 27)]\n",
      "----- Filter -----\n",
      "100 [(0, 0, 0), (2, 4, 6), (4, 8, 12), (6, 12, 18), (8, 16, 24), (10, 20, 30), (12, 24, 36), (14, 28, 42), (16, 32, 48), (18, 36, 54)]\n",
      "----- With print -----\n",
      "[(0, 0, 0), (2, 16, 1296), (4, 64, 20736), (6, 144, 104976), (8, 256, 331776), (10, 400, 810000), (12, 576, 1679616), (14, 784, 3111696), (16, 1024, 5308416), (18, 1296, 8503056)]\n",
      "----- With pprint -----\n",
      "[   (0, 0, 0),\n",
      "    (2, 16, 1296),\n",
      "    (4, 64, 20736),\n",
      "    (6, 144, 104976),\n",
      "    (8, 256, 331776),\n",
      "    (10, 400, 810000),\n",
      "    (12, 576, 1679616),\n",
      "    (14, 784, 3111696),\n",
      "    (16, 1024, 5308416),\n",
      "    (18, 1296, 8503056)]\n"
     ]
    }
   ],
   "source": [
    "test_print = [(i, 2*i, 3*i) for i in range(200)]\n",
    "print(len(test_print), test_print[:10])\n",
    "print(\"----- Filter -----\")\n",
    "test_print_even = list(filter(lambda x: x[0] % 2 == 0, test_print))\n",
    "print(len(test_print_even), test_print_even[:10])\n",
    "\n",
    "test_print_even_power = list(map(lambda x: (x[0], x[1] ** 2, x[2] ** 4), test_print_even))\n",
    "\n",
    "print(\"----- With print -----\")\n",
    "print(test_print_even_power[:10])\n",
    "print(\"----- With pprint -----\")\n",
    "pp.pprint(test_print_even_power[:10])"
   ]
  }
 ],
 "metadata": {
  "kernelspec": {
   "display_name": "Python 3",
   "language": "python",
   "name": "python3"
  },
  "language_info": {
   "codemirror_mode": {
    "name": "ipython",
    "version": 3
   },
   "file_extension": ".py",
   "mimetype": "text/x-python",
   "name": "python",
   "nbconvert_exporter": "python",
   "pygments_lexer": "ipython3",
   "version": "3.6.9"
  }
 },
 "nbformat": 4,
 "nbformat_minor": 4
}
